{
 "cells": [
  {
   "cell_type": "markdown",
   "id": "5119aaee",
   "metadata": {},
   "source": [
    "# BACK TESTING"
   ]
  },
  {
   "cell_type": "code",
   "execution_count": null,
   "id": "eecd3f44",
   "metadata": {},
   "outputs": [],
   "source": [
    "import pandas as pd\n",
    "import numpy as np\n",
    "import matplotlib.pyplot as plt"
   ]
  },
  {
   "cell_type": "code",
   "execution_count": null,
   "id": "ca9ab973",
   "metadata": {},
   "outputs": [],
   "source": [
    "export_path = 'io/output/exports/'\n",
    "predictions_path = export_path + 'predictions/'\n",
    "gcn_list = ['A3TGCN2', 'DCRNN', 'TGCN', 'TGCN2', 'GConvGRU', 'GConvLSTM', 'GCLSTM']\n",
    "gcn = gcn_list[3] #TGCN2"
   ]
  },
  {
   "cell_type": "code",
   "execution_count": null,
   "id": "6a917866",
   "metadata": {},
   "outputs": [],
   "source": [
    "pivot_true = pd.read_csv(predictions_path+gcn+'_predictions.csv',index_col=0)\n",
    "pivot_pred = pd.read_csv(predictions_path+gcn+'_ground_truth.csv',index_col=0)"
   ]
  },
  {
   "cell_type": "code",
   "execution_count": null,
   "id": "7514a5d5",
   "metadata": {},
   "outputs": [],
   "source": [
    "# Define trading strategy\n",
    "def trading_strategy(predicted_close, current_close):\n",
    "    if predicted_close > current_close + (current_close * 0.2):\n",
    "        return 'buy'\n",
    "    elif predicted_close < current_close + (current_close * 0.2):\n",
    "        return 'sell'\n",
    "    else:\n",
    "        return 'hold'\n",
    "\n",
    "# Initialize variables\n",
    "balance = 1000.0\n",
    "shares = 0.0\n",
    "trades = []\n",
    "results = []\n",
    "\n",
    "# Loop through each day in the data\n",
    "for i in range(len(pivot_true)-1):\n",
    "    # Get current close price\n",
    "    current_close = pivot_true['DASH'][i]\n",
    "    \n",
    "    # Use neural network to predict next close price\n",
    "    predicted_close = pivot_pred['DASH'][i]\n",
    "    \n",
    "    # Determine trading action based on strategy\n",
    "    action = trading_strategy(predicted_close, current_close)\n",
    "    \n",
    "    # Execute trade\n",
    "    if action == 'buy':\n",
    "        shares = balance / current_close\n",
    "        balance = 0.0\n",
    "        trades.append(('buy', current_close))\n",
    "    elif action == 'sell':\n",
    "        balance = shares * current_close\n",
    "        shares = 0.0\n",
    "        trades.append(('sell', current_close))\n",
    "    else:\n",
    "        trades.append(('hold', current_close))\n",
    "    \n",
    "    # Record results\n",
    "    results.append(balance + shares * current_close)\n",
    "\n",
    "print(trades)\n",
    "# Calculate performance metrics\n",
    "profit = results[-1] - results[0]\n",
    "return_rate = profit / results[0] * 100.0\n",
    "win_rate = sum([1 for t in trades if t[0] == 'buy' and t[1] < t[1:][0]]) / len([t for t in trades if t[0] == 'buy']) * 100.0\n",
    "\n",
    "# Plot results\n",
    "plt.plot(results)\n",
    "plt.xlabel('Day')\n",
    "plt.ylabel('Balance')\n",
    "plt.title('Backtest Results')\n",
    "plt.show()\n",
    "\n",
    "print('Profit: ${:.2f}'.format(profit))\n",
    "print('Return rate: {:.2f}%'.format(return_rate))\n",
    "print('Win rate: {:.2f}%'.format(win_rate))\n",
    "\n"
   ]
  }
 ],
 "metadata": {
  "kernelspec": {
   "display_name": "full_ml",
   "language": "python",
   "name": "full_ml"
  },
  "language_info": {
   "codemirror_mode": {
    "name": "ipython",
    "version": 3
   },
   "file_extension": ".py",
   "mimetype": "text/x-python",
   "name": "python",
   "nbconvert_exporter": "python",
   "pygments_lexer": "ipython3",
   "version": "3.8.13"
  }
 },
 "nbformat": 4,
 "nbformat_minor": 5
}
