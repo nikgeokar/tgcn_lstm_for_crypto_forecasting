{
 "cells": [
  {
   "cell_type": "markdown",
   "id": "db733ee1",
   "metadata": {},
   "source": [
    "<h1>\n",
    "<center>Comparing the Performance of popular ML algorithms</center>\n",
    "</h1>"
   ]
  },
  {
   "cell_type": "markdown",
   "id": "d0dc6378",
   "metadata": {},
   "source": [
    "<center><font size=\"3\">\n",
    "In this notebook we structure several of the common machine learning algorithms to compare their results with our approach.\n",
    "<br>\n",
    "<br>\n",
    "Αiming to make as fair a comparison as possible, we perform hyper-parameter optimization οn every algorithm using the validation set. \n",
    "<br>\n",
    "<br>\n",
    "Then knowing the best combination of hyper-parameters we train each model and evaluate the model on test set by measuring various metrics\n",
    "\n",
    "</font></center>"
   ]
  },
  {
   "cell_type": "markdown",
   "id": "27a84bcd",
   "metadata": {},
   "source": [
    "## Generals"
   ]
  },
  {
   "cell_type": "markdown",
   "id": "24e92272",
   "metadata": {},
   "source": [
    "<font size=\"3\"> \n",
    "Packages import and system configurations. \n",
    "</font>"
   ]
  },
  {
   "cell_type": "code",
   "execution_count": 1,
   "id": "ab887616",
   "metadata": {},
   "outputs": [],
   "source": [
    "#Data\n",
    "import os\n",
    "import pandas as pd\n",
    "import numpy as np\n",
    "from tqdm import tqdm\n",
    "import pickle\n",
    "import shutil\n",
    "import math\n",
    "from datetime import datetime\n",
    "from datetime import datetime as dt\n",
    "import itertools\n",
    "#Graph Counstruction\n",
    "import matplotlib.pyplot as plt\n",
    "from sklearn.preprocessing import StandardScaler\n",
    "from xgboost import XGBRegressor\n",
    "from sklearn.svm import SVR\n",
    "from sklearn.tree import DecisionTreeRegressor\n",
    "from sklearn.ensemble import RandomForestRegressor, GradientBoostingRegressor, AdaBoostRegressor \n",
    "from sklearn.neighbors import KNeighborsRegressor \n",
    "from sklearn.linear_model import LinearRegression \n",
    "from sklearn.gaussian_process import GaussianProcessRegressor\n",
    "from sklearn.gaussian_process.kernels import ConstantKernel, RBF\n",
    "from sklearn import metrics\n",
    "from sklearn.metrics import mean_absolute_error, r2_score, mean_squared_error"
   ]
  },
  {
   "cell_type": "markdown",
   "id": "55210b91",
   "metadata": {},
   "source": [
    "<font size=\"3\"> \n",
    "Define necessary paths. \n",
    "</font>"
   ]
  },
  {
   "cell_type": "code",
   "execution_count": 2,
   "id": "056cf21b",
   "metadata": {},
   "outputs": [],
   "source": [
    "train_path = 'io/input/base_data/train.csv'\n",
    "test_path = 'io/input/base_data/test.csv'\n",
    "val_path ='io/input/base_data/valid.csv'\n",
    "plot_export_path = 'io/output/exports/analysis_plots/'"
   ]
  },
  {
   "cell_type": "markdown",
   "id": "78c4c99b",
   "metadata": {},
   "source": [
    "## Core Functionality"
   ]
  },
  {
   "cell_type": "markdown",
   "id": "acfd3ae0",
   "metadata": {},
   "source": [
    "<font size=\"3\"> \n",
    "Load data according to validation_ind (if true: return train-validation | else: return train - test) \n",
    "</font>"
   ]
  },
  {
   "cell_type": "code",
   "execution_count": 3,
   "id": "99904a8f",
   "metadata": {},
   "outputs": [],
   "source": [
    "def load_data(train_path,val_path,test_path,validation_ind):\n",
    "    if validation_ind:\n",
    "        trainset = pd.read_csv(train_path,index_col=0)\n",
    "        x_train,y_train = init_process(trainset.head(20000)) \n",
    "        valset = pd.read_csv(val_path,index_col=0)\n",
    "        x_test,y_test = init_process(valset)\n",
    "        x_train,x_test = scaller(x_train,x_test)\n",
    "    else:\n",
    "        trainset = pd.read_csv(train_path,index_col=0)\n",
    "        valset = pd.read_csv(val_path,index_col=0)\n",
    "        trainset = pd.concat([trainset, valset], ignore_index=True)\n",
    "        x_train,y_train = init_process(trainset) \n",
    "        testset = pd.read_csv(test_path,index_col=0)\n",
    "        x_test,y_test = init_process(testset)\n",
    "        x_train,x_test = scaller(x_train,x_test)\n",
    "    return x_train,y_train,x_test,y_test"
   ]
  },
  {
   "cell_type": "markdown",
   "id": "f282e04f",
   "metadata": {},
   "source": [
    "<font size=\"3\"> \n",
    "Split: features -  target\n",
    "</font>"
   ]
  },
  {
   "cell_type": "code",
   "execution_count": 4,
   "id": "22f5b8d3",
   "metadata": {},
   "outputs": [],
   "source": [
    "def init_process(df):\n",
    "    y = df['Target']\n",
    "    x = df.drop(['Target'], axis=1)\n",
    "    x = x.drop(['Asset_id'], axis=1)\n",
    "    return x, y"
   ]
  },
  {
   "cell_type": "markdown",
   "id": "7a9de3a6",
   "metadata": {},
   "source": [
    "<font size=\"3\"> \n",
    "Apply Standardization. \n",
    "</font>"
   ]
  },
  {
   "cell_type": "code",
   "execution_count": 5,
   "id": "13431eca",
   "metadata": {},
   "outputs": [],
   "source": [
    "def scaller(x_train,x_test):\n",
    "    Standar_Scaller = StandardScaler()\n",
    "    scalled_train_data= Standar_Scaller.fit_transform(x_train)\n",
    "    scalled_test_data = Standar_Scaller.transform(x_test)\n",
    "    return scalled_train_data,scalled_test_data"
   ]
  },
  {
   "cell_type": "markdown",
   "id": "d0ae6d7f",
   "metadata": {},
   "source": [
    "## Hyper-Parameters Tunig"
   ]
  },
  {
   "cell_type": "markdown",
   "id": "0ae83664",
   "metadata": {},
   "source": [
    "<font size=\"3\">\n",
    "A core function that apply the evaluation procces using train & validation set:\n",
    "<ol>\n",
    "<li>Initialize the given regression models (SVR, DecisionTreeRegressor, XGBRegressor & more) with default hyperparameters.</li>\n",
    "<li>Define the hyperparameter search spaces (ranges of values to try for each hyperparameter) for each model.</li>\n",
    "<li>Loop through the three models and their corresponding hyperparameter search spaces.</li>\n",
    "<li>Generate all possible combinations of hyperparameters for each model.</li>\n",
    "<li>For each hyperparameter combination, fit the model on the training set, make predictions on the validation set, and calculate the MAE score.</li>\n",
    "<li>Track the best hyperparameters for each model based on the lowest MAE score on the validation set.</li>\n",
    "<li>Return the best hyperparameters for each model as a list of dictionaries.</li>"
   ]
  },
  {
   "cell_type": "code",
   "execution_count": 6,
   "id": "0c37096f",
   "metadata": {},
   "outputs": [],
   "source": [
    "def parameter_tuning_validation(x_train, y_train, x_val, y_val):\n",
    "    # Initialize the models\n",
    "    svm_reg = SVR()\n",
    "    tree_reg = DecisionTreeRegressor()\n",
    "    xgb_reg = XGBRegressor()\n",
    "    nb_reg = GaussianProcessRegressor()\n",
    "    lr_reg = LinearRegression()\n",
    "    knn_reg = KNeighborsRegressor()\n",
    "    rf_reg = RandomForestRegressor()\n",
    "    gb_reg = GradientBoostingRegressor()\n",
    "    ada_reg = AdaBoostRegressor()\n",
    "\n",
    "    # Define the hyperparameter ranges\n",
    "    svm_param_grid = {'kernel': ['linear','sigmoid', 'rbf'],'C': [0.1, 10, 15],'gamma':['scale','auto']}\n",
    "    tree_param_grid = {'criterion':['squared_error','friedman_mse'],'max_depth': [6,10,12], 'min_samples_split': [4, 6, 8]}\n",
    "    xgb_param_grid = {'n_estimators': [6, 10, 25], 'max_depth': [1, 2, 5], 'eta':[0.1,0.3,0.5]}\n",
    "    nb_param_grid = {'kernel': [1**2 * RBF(length_scale=1)],'alpha': [0.1, 1.0, 10.0],'n_restarts_optimizer': [0, 1, 2],'optimizer': ['fmin_l_bfgs_b']}\n",
    "    lr_param_grid = {'fit_intercept': [True, False], 'normalize': [True, False]}\n",
    "    knn_param_grid = {'n_neighbors': [3, 5, 7], 'weights': ['uniform', 'distance'], 'algorithm': ['ball_tree', 'kd_tree', 'brute']}\n",
    "    rf_param_grid = {'max_depth': [3, 5, 7], 'n_estimators': [50, 100, 200], 'min_samples_split': [2, 4, 6]}\n",
    "    gb_param_grid = {'learning_rate': [0.01, 0.1, 1.0], 'n_estimators': [50, 100, 200], 'max_depth': [3, 5, 7]}\n",
    "    ada_param_grid = {'learning_rate': [0.01, 0.1, 1.0], 'n_estimators': [50, 100, 200]}\n",
    "\n",
    "    \n",
    "    models = [svm_reg, tree_reg, xgb_reg, lr_reg, knn_reg, rf_reg, gb_reg, ada_reg]\n",
    "    param_grids = [svm_param_grid, tree_param_grid, xgb_param_grid, lr_param_grid,\n",
    "                  knn_param_grid, rf_param_grid, gb_param_grid, ada_param_grid]\n",
    "\n",
    "    best_params = []\n",
    "    for i, model in enumerate(models):\n",
    "        print('\\n')\n",
    "        best_mae = float('inf')\n",
    "        best_mape = float('inf')\n",
    "        best_params_i = {}\n",
    "        # Generate all possible combinations of hyperparameters\n",
    "        param_combinations = list(itertools.product(*(param_grids[i][param] for param in param_grids[i])))\n",
    "        for j, params in enumerate(param_combinations):\n",
    "            # Unpack the tuple of parameter values into individual arguments\n",
    "            params_dict = dict(zip(param_grids[i], params))\n",
    "            model.set_params(**params_dict)\n",
    "            model.fit(x_train, y_train)\n",
    "            y_val_pred = model.predict(x_val)\n",
    "            mse = round(mean_squared_error(y_val, y_val_pred), 7)\n",
    "            mae = round(mean_absolute_error(y_val, y_val_pred),7)\n",
    "            r2 = round(r2_score(y_val, y_val_pred),7)\n",
    "            rmse = round(np.sqrt(mean_squared_error(y_val, y_val_pred)), 7)\n",
    "            param_str = ', '.join([f'{param}={value}' for param, value in params_dict.items()])\n",
    "            print(f\"Experiment {j+1} with {model.__class__.__name__} using {param_str} has MSE: {mse}, MAE: {mae}, R2: {r2}, RMSE: {rmse}\")\n",
    "            if mae < best_mae:\n",
    "                best_mae = mae\n",
    "                best_r2 = r2\n",
    "                best_params_i = dict(zip(param_grids[i], params))\n",
    "        best_params.append(best_params_i)\n",
    "    return best_params"
   ]
  },
  {
   "cell_type": "markdown",
   "id": "f853f6a9",
   "metadata": {},
   "source": [
    "## Model Train & Test Evalaution "
   ]
  },
  {
   "cell_type": "markdown",
   "id": "a7330354",
   "metadata": {},
   "source": [
    "<font size=\"3\">\n",
    "A core function that apply the final train and evaluation procces using train & test set:\n",
    "<ol>\n",
    "<li>Initialize the models with the best hyperparameters.</li>\n",
    "<li>Fit each model on the training data.</li>\n",
    "<li>Use the fitted models to make predictions on the test set.</li>\n",
    "<li>Compute the evaluation metrics (MSE, MAE, R2, RMSE) for each model.</li>\n",
    "<li>Store the results for each model in a dictionary.</li>\n",
    "<li>Print the evaluation metrics for each model.</li>\n",
    "<li>Return the dictionary containing the results.</li>"
   ]
  },
  {
   "cell_type": "code",
   "execution_count": 14,
   "id": "ab3397e4",
   "metadata": {},
   "outputs": [],
   "source": [
    "def evaluate_models(x_train, y_train, x_test, y_test, best_params):\n",
    "    # Initialize the models with the best hyperparameters\n",
    "    svm_reg = SVR(**best_params[0])\n",
    "    tree_reg = DecisionTreeRegressor(**best_params[1])\n",
    "    xgb_reg = XGBRegressor(**best_params[2])\n",
    "    #nb_reg = GaussianProcessRegressor(**best_params[3])\n",
    "    lr_reg = LinearRegression(**best_params[3])\n",
    "    knn_reg = KNeighborsRegressor(**best_params[4])\n",
    "    rf_reg = RandomForestRegressor(**best_params[5])\n",
    "    gb_reg = GradientBoostingRegressor(**best_params[6])\n",
    "    ada_reg = AdaBoostRegressor(**best_params[7])\n",
    "\n",
    "    models = [svm_reg, tree_reg, xgb_reg, lr_reg, knn_reg, rf_reg, gb_reg, ada_reg]\n",
    "    model_names = ['SVM', 'Decision Tree', 'XGBoost', 'Linear Regression',\n",
    "                  'KNN', 'Random Forest', 'Gradient Boosting','AdaBoost']\n",
    "    \n",
    "    results = {}\n",
    "    for i, model in enumerate(models):\n",
    "        model.fit(x_train, y_train)\n",
    "        y_test_pred = model.predict(x_test)\n",
    "        mse = round(mean_squared_error(y_test, y_test_pred), 7)\n",
    "        mae = round(mean_absolute_error(y_test, y_test_pred),7)\n",
    "        r2 = round(r2_score(y_test, y_test_pred),7)\n",
    "        rmse = round(np.sqrt(mean_squared_error(y_test, y_test_pred)), 7)\n",
    "        results[model_names[i]] = {'MSE': mse,'MAE': mae, 'R2': r2, 'RMSE': rmse}\n",
    "        print(f\"{model_names[i]} model has MSE: {mse}, MAE: {mae}, R2: {r2}, RMSE: {rmse}\")\n",
    "    return results"
   ]
  },
  {
   "cell_type": "markdown",
   "id": "a6414bf4",
   "metadata": {},
   "source": [
    "<font size=\"3\"> \n",
    "Plot metrics on subplots for camparison purposes\n",
    "</font>"
   ]
  },
  {
   "cell_type": "code",
   "execution_count": 8,
   "id": "7d0a7957",
   "metadata": {},
   "outputs": [],
   "source": [
    "def plot_all_metrics_train_val(metrics):\n",
    "    model_names = list(results.keys())\n",
    "    mse = [results[model]['MSE'] for model in model_names]\n",
    "    mae = [results[model]['MAE'] for model in model_names]\n",
    "    r2 = [results[model]['R2'] for model in model_names]\n",
    "    rmse = [results[model]['RMSE'] for model in model_names]\n",
    "    \n",
    "    x = np.arange(len(model_names))\n",
    "    width = 0.35\n",
    "    \n",
    "    fig, axs = plt.subplots(nrows=2, ncols=2,figsize=(12, 8))\n",
    "    fig.suptitle('Comparison of Model Performance', fontsize=16)\n",
    "    # Plot the first metric on the top-left subplot\n",
    "    axs[0, 0].bar(x - width/2, mse, width, label='MSE')\n",
    "    axs[0, 0].set_ylabel('MSE')\n",
    "    axs[0, 0].set_title('MSE')\n",
    "    axs[0, 0].set_xticks(x)\n",
    "    axs[0, 0].set_xticklabels(model_names)\n",
    "    #axs[0, 0].set_ylim(0,1.2)\n",
    "    axs[0, 0].legend()\n",
    "    # Plot the second metric on the top-right subplot\n",
    "    axs[0, 1].bar(x - width/2, mae, width, label='MAE')\n",
    "    axs[0, 1].set_ylabel('MAE')\n",
    "    axs[0, 1].set_title('MAE')\n",
    "    axs[0, 1].set_xticks(x)\n",
    "    axs[0, 1].set_xticklabels(model_names)\n",
    "    #axs[0, 1].set_ylim(0,1.2)\n",
    "    axs[0, 1].legend()\n",
    "    # Plot the third metric on the bottom-left subplot\n",
    "    axs[1, 0].bar(x - width/2, r2, width, label='R2')\n",
    "    axs[1, 0].set_ylabel('R2')\n",
    "    axs[1, 0].set_title('R2')\n",
    "    axs[1, 0].set_xticks(x)\n",
    "    axs[1, 0].set_xticklabels(model_names)\n",
    "    #axs[1, 0].set_ylim(0,1.2)\n",
    "    axs[1, 0].legend()\n",
    "    # Plot the fourth metric on the bottom-right subplot\n",
    "    axs[1, 1].bar(x - width/2, rmse, width, label='RMSE')\n",
    "    axs[1, 1].set_ylabel('RMSE')\n",
    "    axs[1, 1].set_title('RMSE')\n",
    "    axs[1, 1].set_xticks(x)\n",
    "    axs[1, 1].set_xticklabels(model_names)\n",
    "    #axs[1, 1].set_ylim(0,1.2)\n",
    "    axs[1, 1].legend()\n",
    "    # Adjust the spacing between subplots\n",
    "    plt.tight_layout()\n",
    "    # Show the plot\n",
    "    plt.show()"
   ]
  },
  {
   "cell_type": "markdown",
   "id": "ed8d9cb5",
   "metadata": {},
   "source": [
    "## Pipeline Execution"
   ]
  },
  {
   "cell_type": "markdown",
   "id": "71eb762e",
   "metadata": {},
   "source": [
    "<font size=\"3\"> \n",
    "Hyper-Parameter tuning\n",
    "</font>"
   ]
  },
  {
   "cell_type": "code",
   "execution_count": 9,
   "id": "592580af",
   "metadata": {},
   "outputs": [
    {
     "name": "stdout",
     "output_type": "stream",
     "text": [
      "\n",
      "\n",
      "Experiment 1 with SVR using kernel=linear, C=0.1, gamma=scale has MSE: 49324031.8651542, MAE: 2862.8290411, R2: 0.5270234, RMSE: 7023.1069951\n",
      "Experiment 2 with SVR using kernel=linear, C=0.1, gamma=auto has MSE: 49324031.8651542, MAE: 2862.8290411, R2: 0.5270234, RMSE: 7023.1069951\n",
      "Experiment 3 with SVR using kernel=linear, C=10, gamma=scale has MSE: 27013.1085452, MAE: 42.5223856, R2: 0.999741, RMSE: 164.3566504\n",
      "Experiment 4 with SVR using kernel=linear, C=10, gamma=auto has MSE: 27013.1085452, MAE: 42.5223856, R2: 0.999741, RMSE: 164.3566504\n",
      "Experiment 5 with SVR using kernel=linear, C=15, gamma=scale has MSE: 26875.914918, MAE: 41.9964582, R2: 0.9997423, RMSE: 163.9387536\n",
      "Experiment 6 with SVR using kernel=linear, C=15, gamma=auto has MSE: 26875.914918, MAE: 41.9964582, R2: 0.9997423, RMSE: 163.9387536\n",
      "Experiment 7 with SVR using kernel=sigmoid, C=0.1, gamma=scale has MSE: 115410334.1470999, MAE: 3908.698901, R2: -0.1066896, RMSE: 10742.9201871\n",
      "Experiment 8 with SVR using kernel=sigmoid, C=0.1, gamma=auto has MSE: 115978332.7300912, MAE: 3913.5890112, R2: -0.1121362, RMSE: 10769.3236895\n",
      "Experiment 9 with SVR using kernel=sigmoid, C=10, gamma=scale has MSE: 29872930.9445317, MAE: 2250.629237, R2: 0.7135433, RMSE: 5465.6135012\n",
      "Experiment 10 with SVR using kernel=sigmoid, C=10, gamma=auto has MSE: 23193044.060481, MAE: 1988.6537018, R2: 0.7775979, RMSE: 4815.9157032\n",
      "Experiment 11 with SVR using kernel=sigmoid, C=15, gamma=scale has MSE: 24703902.9324378, MAE: 2281.8998684, R2: 0.76311, RMSE: 4970.3020967\n",
      "Experiment 12 with SVR using kernel=sigmoid, C=15, gamma=auto has MSE: 17305031.3873792, MAE: 1552.840539, R2: 0.8340591, RMSE: 4159.9316566\n",
      "Experiment 13 with SVR using kernel=rbf, C=0.1, gamma=scale has MSE: 118441394.0834027, MAE: 3941.5232698, R2: -0.1357549, RMSE: 10883.0783367\n",
      "Experiment 14 with SVR using kernel=rbf, C=0.1, gamma=auto has MSE: 118236926.9528019, MAE: 3939.492375, R2: -0.1337943, RMSE: 10873.6804695\n",
      "Experiment 15 with SVR using kernel=rbf, C=10, gamma=scale has MSE: 46309132.2027914, MAE: 3251.0110942, R2: 0.5559338, RMSE: 6805.0813517\n",
      "Experiment 16 with SVR using kernel=rbf, C=10, gamma=auto has MSE: 38969842.68744, MAE: 3021.1405201, R2: 0.6263115, RMSE: 6242.5830141\n",
      "Experiment 17 with SVR using kernel=rbf, C=15, gamma=scale has MSE: 29394036.7865504, MAE: 2905.3749808, R2: 0.7181355, RMSE: 5421.6267657\n",
      "Experiment 18 with SVR using kernel=rbf, C=15, gamma=auto has MSE: 22310001.8609161, MAE: 2592.3127823, R2: 0.7860655, RMSE: 4723.3464684\n",
      "\n",
      "\n",
      "Experiment 1 with DecisionTreeRegressor using criterion=squared_error, max_depth=6, min_samples_split=4 has MSE: 407768.558402, MAE: 265.4716822, R2: 0.9960898, RMSE: 638.5675833\n",
      "Experiment 2 with DecisionTreeRegressor using criterion=squared_error, max_depth=6, min_samples_split=6 has MSE: 412253.6546087, MAE: 261.7988616, R2: 0.9960468, RMSE: 642.0698207\n",
      "Experiment 3 with DecisionTreeRegressor using criterion=squared_error, max_depth=6, min_samples_split=8 has MSE: 308734.1478789, MAE: 235.3483695, R2: 0.9970395, RMSE: 555.6385047\n",
      "Experiment 4 with DecisionTreeRegressor using criterion=squared_error, max_depth=10, min_samples_split=4 has MSE: 508636.1252186, MAE: 291.4189688, R2: 0.9951226, RMSE: 713.1873002\n",
      "Experiment 5 with DecisionTreeRegressor using criterion=squared_error, max_depth=10, min_samples_split=6 has MSE: 365617.401211, MAE: 249.6527684, R2: 0.996494, RMSE: 604.6630477\n",
      "Experiment 6 with DecisionTreeRegressor using criterion=squared_error, max_depth=10, min_samples_split=8 has MSE: 485897.863647, MAE: 284.7072436, R2: 0.9953406, RMSE: 697.0637443\n",
      "Experiment 7 with DecisionTreeRegressor using criterion=squared_error, max_depth=12, min_samples_split=4 has MSE: 401875.8336742, MAE: 260.7198741, R2: 0.9961463, RMSE: 633.9367742\n",
      "Experiment 8 with DecisionTreeRegressor using criterion=squared_error, max_depth=12, min_samples_split=6 has MSE: 452193.5916564, MAE: 280.2783122, R2: 0.9956638, RMSE: 672.4534123\n",
      "Experiment 9 with DecisionTreeRegressor using criterion=squared_error, max_depth=12, min_samples_split=8 has MSE: 360592.3731732, MAE: 247.390314, R2: 0.9965422, RMSE: 600.4934414\n",
      "Experiment 10 with DecisionTreeRegressor using criterion=friedman_mse, max_depth=6, min_samples_split=4 has MSE: 353876.2104846, MAE: 250.6783343, R2: 0.9966066, RMSE: 594.8749537\n",
      "Experiment 11 with DecisionTreeRegressor using criterion=friedman_mse, max_depth=6, min_samples_split=6 has MSE: 315678.2180881, MAE: 238.6329157, R2: 0.9969729, RMSE: 561.8524878\n",
      "Experiment 12 with DecisionTreeRegressor using criterion=friedman_mse, max_depth=6, min_samples_split=8 has MSE: 310942.0758097, MAE: 236.5479414, R2: 0.9970183, RMSE: 557.6218036\n",
      "Experiment 13 with DecisionTreeRegressor using criterion=friedman_mse, max_depth=10, min_samples_split=4 has MSE: 413702.8254918, MAE: 262.7134879, R2: 0.9960329, RMSE: 643.1973457\n",
      "Experiment 14 with DecisionTreeRegressor using criterion=friedman_mse, max_depth=10, min_samples_split=6 has MSE: 383728.6309704, MAE: 258.0771591, R2: 0.9963204, RMSE: 619.4583368\n",
      "Experiment 15 with DecisionTreeRegressor using criterion=friedman_mse, max_depth=10, min_samples_split=8 has MSE: 391023.4782864, MAE: 261.3379063, R2: 0.9962504, RMSE: 625.3187014\n",
      "Experiment 16 with DecisionTreeRegressor using criterion=friedman_mse, max_depth=12, min_samples_split=4 has MSE: 470590.5251265, MAE: 277.3390559, R2: 0.9954874, RMSE: 685.9960096\n",
      "Experiment 17 with DecisionTreeRegressor using criterion=friedman_mse, max_depth=12, min_samples_split=6 has MSE: 373376.1621135, MAE: 254.4176204, R2: 0.9964196, RMSE: 611.0451392\n",
      "Experiment 18 with DecisionTreeRegressor using criterion=friedman_mse, max_depth=12, min_samples_split=8 has MSE: 377325.0303588, MAE: 255.5041102, R2: 0.9963818, RMSE: 614.2678816\n",
      "\n",
      "\n",
      "Experiment 1 with XGBRegressor using n_estimators=6, max_depth=1, eta=0.1 has MSE: 30611574.0669035, MAE: 2590.7743806, R2: 0.7064603, RMSE: 5532.7727287\n",
      "Experiment 2 with XGBRegressor using n_estimators=6, max_depth=1, eta=0.3 has MSE: 3333992.3963321, MAE: 1205.3513253, R2: 0.9680298, RMSE: 1825.9223413\n",
      "Experiment 3 with XGBRegressor using n_estimators=6, max_depth=1, eta=0.5 has MSE: 7729416.3123039, MAE: 1337.2661389, R2: 0.9258813, RMSE: 2780.182784\n",
      "Experiment 4 with XGBRegressor using n_estimators=6, max_depth=2, eta=0.1 has MSE: 36766732.3518008, MAE: 2337.8078624, R2: 0.6474375, RMSE: 6063.5577306\n",
      "Experiment 5 with XGBRegressor using n_estimators=6, max_depth=2, eta=0.3 has MSE: 2518117.3268275, MAE: 736.341834, R2: 0.9758533, RMSE: 1586.8576895\n",
      "Experiment 6 with XGBRegressor using n_estimators=6, max_depth=2, eta=0.5 has MSE: 1350340.0733071, MAE: 502.8409371, R2: 0.9870514, RMSE: 1162.0413389\n",
      "Experiment 7 with XGBRegressor using n_estimators=6, max_depth=5, eta=0.1 has MSE: 33635617.5217066, MAE: 2109.650034, R2: 0.6774623, RMSE: 5799.6221878\n",
      "Experiment 8 with XGBRegressor using n_estimators=6, max_depth=5, eta=0.3 has MSE: 1726825.857897, MAE: 527.3598933, R2: 0.9834412, RMSE: 1314.087462\n",
      "Experiment 9 with XGBRegressor using n_estimators=6, max_depth=5, eta=0.5 has MSE: 225067.8886565, MAE: 211.1472704, R2: 0.9978418, RMSE: 474.4132046\n",
      "Experiment 10 with XGBRegressor using n_estimators=10, max_depth=1, eta=0.1 has MSE: 13426643.6543741, MAE: 2078.3399972, R2: 0.8712496, RMSE: 3664.2384822\n",
      "Experiment 11 with XGBRegressor using n_estimators=10, max_depth=1, eta=0.3 has MSE: 1495440.0831238, MAE: 783.6598301, R2: 0.98566, RMSE: 1222.8818762\n",
      "Experiment 12 with XGBRegressor using n_estimators=10, max_depth=1, eta=0.5 has MSE: 7070547.4102094, MAE: 1111.7634246, R2: 0.9321993, RMSE: 2659.0500955\n",
      "Experiment 13 with XGBRegressor using n_estimators=10, max_depth=2, eta=0.1 has MSE: 16487175.4059904, MAE: 1631.197092, R2: 0.8419016, RMSE: 4060.4402971\n",
      "Experiment 14 with XGBRegressor using n_estimators=10, max_depth=2, eta=0.3 has MSE: 738384.7282801, MAE: 429.7077583, R2: 0.9929195, RMSE: 859.2931562\n",
      "Experiment 15 with XGBRegressor using n_estimators=10, max_depth=2, eta=0.5 has MSE: 997193.8039687, MAE: 428.0065169, R2: 0.9904377, RMSE: 998.5959163\n",
      "Experiment 16 with XGBRegressor using n_estimators=10, max_depth=5, eta=0.1 has MSE: 14449373.5181649, MAE: 1390.9085501, R2: 0.8614425, RMSE: 3801.2331576\n",
      "Experiment 17 with XGBRegressor using n_estimators=10, max_depth=5, eta=0.3 has MSE: 255811.8250228, MAE: 226.5751976, R2: 0.997547, RMSE: 505.7784347\n",
      "Experiment 18 with XGBRegressor using n_estimators=10, max_depth=5, eta=0.5 has MSE: 216159.0165436, MAE: 201.1904306, R2: 0.9979272, RMSE: 464.9290446\n"
     ]
    },
    {
     "name": "stdout",
     "output_type": "stream",
     "text": [
      "Experiment 19 with XGBRegressor using n_estimators=25, max_depth=1, eta=0.1 has MSE: 1577039.5232511, MAE: 919.2885527, R2: 0.9848775, RMSE: 1255.8023424\n",
      "Experiment 20 with XGBRegressor using n_estimators=25, max_depth=1, eta=0.3 has MSE: 1121437.5162724, MAE: 414.9111853, R2: 0.9892463, RMSE: 1058.9794692\n",
      "Experiment 21 with XGBRegressor using n_estimators=25, max_depth=1, eta=0.5 has MSE: 5344647.1080674, MAE: 952.2885643, R2: 0.9487493, RMSE: 2311.8492832\n",
      "Experiment 22 with XGBRegressor using n_estimators=25, max_depth=2, eta=0.1 has MSE: 916277.2710498, MAE: 494.6799912, R2: 0.9912137, RMSE: 957.2237309\n",
      "Experiment 23 with XGBRegressor using n_estimators=25, max_depth=2, eta=0.3 has MSE: 618751.7134749, MAE: 327.2468903, R2: 0.9940667, RMSE: 786.6077253\n",
      "Experiment 24 with XGBRegressor using n_estimators=25, max_depth=2, eta=0.5 has MSE: 567854.6732095, MAE: 314.7711042, R2: 0.9945547, RMSE: 753.5613268\n",
      "Experiment 25 with XGBRegressor using n_estimators=25, max_depth=5, eta=0.1 has MSE: 748952.1818395, MAE: 378.1249403, R2: 0.9928182, RMSE: 865.4202342\n",
      "Experiment 26 with XGBRegressor using n_estimators=25, max_depth=5, eta=0.3 has MSE: 198322.8030077, MAE: 189.6610058, R2: 0.9980982, RMSE: 445.3344844\n",
      "Experiment 27 with XGBRegressor using n_estimators=25, max_depth=5, eta=0.5 has MSE: 205218.7408551, MAE: 195.3276492, R2: 0.9980321, RMSE: 453.0107514\n",
      "\n",
      "\n",
      "Experiment 1 with LinearRegression using fit_intercept=True, normalize=True has MSE: 3.1946272042611896e+22, MAE: 126384872632.28606, R2: -306338305619920.1, RMSE: 178735200905.17114\n",
      "Experiment 2 with LinearRegression using fit_intercept=True, normalize=False has MSE: 1.5149911220281998e+29, MAE: 275226372467155.75, R2: -1.4527510838582266e+21, RMSE: 389228868665750.44\n",
      "Experiment 3 with LinearRegression using fit_intercept=False, normalize=True has MSE: 1.2814124835419008e+36, MAE: 8.00441279402153e+17, R2: -1.228768503833059e+28, RMSE: 1.1319949132137921e+18\n",
      "Experiment 4 with LinearRegression using fit_intercept=False, normalize=False has MSE: 1.2814124835419008e+36, MAE: 8.00441279402153e+17, R2: -1.228768503833059e+28, RMSE: 1.1319949132137921e+18\n",
      "\n",
      "\n"
     ]
    },
    {
     "name": "stderr",
     "output_type": "stream",
     "text": [
      "/opt/homebrew/Caskroom/miniforge/base/envs/full_ml/lib/python3.8/site-packages/sklearn/linear_model/_base.py:141: FutureWarning: 'normalize' was deprecated in version 1.0 and will be removed in 1.2.\n",
      "If you wish to scale the data, use Pipeline with a StandardScaler in a preprocessing stage. To reproduce the previous behavior:\n",
      "\n",
      "from sklearn.pipeline import make_pipeline\n",
      "\n",
      "model = make_pipeline(StandardScaler(with_mean=False), LinearRegression())\n",
      "\n",
      "If you wish to pass a sample_weight parameter, you need to pass it as a fit parameter to each step of the pipeline as follows:\n",
      "\n",
      "kwargs = {s[0] + '__sample_weight': sample_weight for s in model.steps}\n",
      "model.fit(X, y, **kwargs)\n",
      "\n",
      "\n",
      "  warnings.warn(\n",
      "/opt/homebrew/Caskroom/miniforge/base/envs/full_ml/lib/python3.8/site-packages/sklearn/linear_model/_base.py:148: FutureWarning: 'normalize' was deprecated in version 1.0 and will be removed in 1.2. Please leave the normalize parameter to its default value to silence this warning. The default behavior of this estimator is to not do any normalization. If normalization is needed please use sklearn.preprocessing.StandardScaler instead.\n",
      "  warnings.warn(\n",
      "/opt/homebrew/Caskroom/miniforge/base/envs/full_ml/lib/python3.8/site-packages/sklearn/linear_model/_base.py:141: FutureWarning: 'normalize' was deprecated in version 1.0 and will be removed in 1.2.\n",
      "If you wish to scale the data, use Pipeline with a StandardScaler in a preprocessing stage. To reproduce the previous behavior:\n",
      "\n",
      "from sklearn.pipeline import make_pipeline\n",
      "\n",
      "model = make_pipeline(StandardScaler(with_mean=False), LinearRegression())\n",
      "\n",
      "If you wish to pass a sample_weight parameter, you need to pass it as a fit parameter to each step of the pipeline as follows:\n",
      "\n",
      "kwargs = {s[0] + '__sample_weight': sample_weight for s in model.steps}\n",
      "model.fit(X, y, **kwargs)\n",
      "\n",
      "\n",
      "  warnings.warn(\n",
      "/opt/homebrew/Caskroom/miniforge/base/envs/full_ml/lib/python3.8/site-packages/sklearn/linear_model/_base.py:148: FutureWarning: 'normalize' was deprecated in version 1.0 and will be removed in 1.2. Please leave the normalize parameter to its default value to silence this warning. The default behavior of this estimator is to not do any normalization. If normalization is needed please use sklearn.preprocessing.StandardScaler instead.\n",
      "  warnings.warn(\n"
     ]
    },
    {
     "name": "stdout",
     "output_type": "stream",
     "text": [
      "Experiment 1 with KNeighborsRegressor using n_neighbors=3, weights=uniform, algorithm=ball_tree has MSE: 11025378.8211685, MAE: 1316.6826419, R2: 0.8942757, RMSE: 3320.4485873\n",
      "Experiment 2 with KNeighborsRegressor using n_neighbors=3, weights=uniform, algorithm=kd_tree has MSE: 11025378.8211685, MAE: 1316.6826419, R2: 0.8942757, RMSE: 3320.4485873\n",
      "Experiment 3 with KNeighborsRegressor using n_neighbors=3, weights=uniform, algorithm=brute has MSE: 11025378.8211685, MAE: 1316.6826419, R2: 0.8942757, RMSE: 3320.4485873\n",
      "Experiment 4 with KNeighborsRegressor using n_neighbors=3, weights=distance, algorithm=ball_tree has MSE: 11011750.2793257, MAE: 1316.0639519, R2: 0.8944064, RMSE: 3318.3957388\n",
      "Experiment 5 with KNeighborsRegressor using n_neighbors=3, weights=distance, algorithm=kd_tree has MSE: 11011750.2793257, MAE: 1316.0639519, R2: 0.8944064, RMSE: 3318.3957388\n",
      "Experiment 6 with KNeighborsRegressor using n_neighbors=3, weights=distance, algorithm=brute has MSE: 11011750.2793257, MAE: 1316.0639519, R2: 0.8944064, RMSE: 3318.3957388\n",
      "Experiment 7 with KNeighborsRegressor using n_neighbors=5, weights=uniform, algorithm=ball_tree has MSE: 10969914.5278286, MAE: 1308.8046578, R2: 0.8948076, RMSE: 3312.0861293\n",
      "Experiment 8 with KNeighborsRegressor using n_neighbors=5, weights=uniform, algorithm=kd_tree has MSE: 10969914.5278286, MAE: 1308.8046578, R2: 0.8948076, RMSE: 3312.0861293\n",
      "Experiment 9 with KNeighborsRegressor using n_neighbors=5, weights=uniform, algorithm=brute has MSE: 10969914.5278286, MAE: 1308.8046578, R2: 0.8948076, RMSE: 3312.0861293\n",
      "Experiment 10 with KNeighborsRegressor using n_neighbors=5, weights=distance, algorithm=ball_tree has MSE: 10954712.2979262, MAE: 1308.0893729, R2: 0.8949534, RMSE: 3309.7903707\n",
      "Experiment 11 with KNeighborsRegressor using n_neighbors=5, weights=distance, algorithm=kd_tree has MSE: 10954712.2979262, MAE: 1308.0893729, R2: 0.8949534, RMSE: 3309.7903707\n",
      "Experiment 12 with KNeighborsRegressor using n_neighbors=5, weights=distance, algorithm=brute has MSE: 10954712.2979262, MAE: 1308.0893729, R2: 0.8949534, RMSE: 3309.7903707\n",
      "Experiment 13 with KNeighborsRegressor using n_neighbors=7, weights=uniform, algorithm=ball_tree has MSE: 10827747.1267409, MAE: 1291.3742361, R2: 0.8961709, RMSE: 3290.5542279\n",
      "Experiment 14 with KNeighborsRegressor using n_neighbors=7, weights=uniform, algorithm=kd_tree has MSE: 10827747.1267409, MAE: 1291.3742361, R2: 0.8961709, RMSE: 3290.5542279\n",
      "Experiment 15 with KNeighborsRegressor using n_neighbors=7, weights=uniform, algorithm=brute has MSE: 10827747.1267409, MAE: 1291.3742361, R2: 0.8961709, RMSE: 3290.5542279\n",
      "Experiment 16 with KNeighborsRegressor using n_neighbors=7, weights=distance, algorithm=ball_tree has MSE: 10813790.774379, MAE: 1290.8773885, R2: 0.8963047, RMSE: 3288.4328752\n",
      "Experiment 17 with KNeighborsRegressor using n_neighbors=7, weights=distance, algorithm=kd_tree has MSE: 10813790.774379, MAE: 1290.8773885, R2: 0.8963047, RMSE: 3288.4328752\n",
      "Experiment 18 with KNeighborsRegressor using n_neighbors=7, weights=distance, algorithm=brute has MSE: 10813790.774379, MAE: 1290.8773885, R2: 0.8963047, RMSE: 3288.4328752\n",
      "\n",
      "\n",
      "Experiment 1 with RandomForestRegressor using max_depth=3, n_estimators=50, min_samples_split=2 has MSE: 1177841.7010094, MAE: 495.7548376, R2: 0.9887055, RMSE: 1085.2841568\n",
      "Experiment 2 with RandomForestRegressor using max_depth=3, n_estimators=50, min_samples_split=4 has MSE: 1126252.9465074, MAE: 487.8176592, R2: 0.9892002, RMSE: 1061.2506521\n",
      "Experiment 3 with RandomForestRegressor using max_depth=3, n_estimators=50, min_samples_split=6 has MSE: 1060460.2582992, MAE: 471.4079021, R2: 0.9898311, RMSE: 1029.786511\n",
      "Experiment 4 with RandomForestRegressor using max_depth=3, n_estimators=100, min_samples_split=2 has MSE: 1141445.8545028, MAE: 490.8311326, R2: 0.9890545, RMSE: 1068.3846941\n",
      "Experiment 5 with RandomForestRegressor using max_depth=3, n_estimators=100, min_samples_split=4 has MSE: 1114173.6052202, MAE: 484.2086462, R2: 0.989316, RMSE: 1055.5442223\n",
      "Experiment 6 with RandomForestRegressor using max_depth=3, n_estimators=100, min_samples_split=6 has MSE: 1062135.0968882, MAE: 472.2394242, R2: 0.989815, RMSE: 1030.5993872\n",
      "Experiment 7 with RandomForestRegressor using max_depth=3, n_estimators=200, min_samples_split=2 has MSE: 1124507.7011386, MAE: 487.3342029, R2: 0.9892169, RMSE: 1060.4280745\n",
      "Experiment 8 with RandomForestRegressor using max_depth=3, n_estimators=200, min_samples_split=4 has MSE: 1133775.5059652, MAE: 488.4769394, R2: 0.989128, RMSE: 1064.788949\n",
      "Experiment 9 with RandomForestRegressor using max_depth=3, n_estimators=200, min_samples_split=6 has MSE: 1129631.856961, MAE: 487.1595324, R2: 0.9891678, RMSE: 1062.8414072\n",
      "Experiment 10 with RandomForestRegressor using max_depth=5, n_estimators=50, min_samples_split=2 has MSE: 202485.2693449, MAE: 204.4765884, R2: 0.9980583, RMSE: 449.9836323\n",
      "Experiment 11 with RandomForestRegressor using max_depth=5, n_estimators=50, min_samples_split=4 has MSE: 202413.1765924, MAE: 198.6299318, R2: 0.998059, RMSE: 449.9035192\n",
      "Experiment 12 with RandomForestRegressor using max_depth=5, n_estimators=50, min_samples_split=6 has MSE: 208373.2120779, MAE: 204.9203946, R2: 0.9980019, RMSE: 456.4791475\n",
      "Experiment 13 with RandomForestRegressor using max_depth=5, n_estimators=100, min_samples_split=2 has MSE: 208479.2278712, MAE: 206.9531248, R2: 0.9980009, RMSE: 456.5952561\n",
      "Experiment 14 with RandomForestRegressor using max_depth=5, n_estimators=100, min_samples_split=4 has MSE: 212314.5099959, MAE: 209.6865368, R2: 0.9979641, RMSE: 460.7759868\n",
      "Experiment 15 with RandomForestRegressor using max_depth=5, n_estimators=100, min_samples_split=6 has MSE: 182298.8265666, MAE: 193.2993727, R2: 0.9982519, RMSE: 426.9646666\n",
      "Experiment 16 with RandomForestRegressor using max_depth=5, n_estimators=200, min_samples_split=2 has MSE: 195606.6916593, MAE: 194.6500958, R2: 0.9981243, RMSE: 442.2744529\n",
      "Experiment 17 with RandomForestRegressor using max_depth=5, n_estimators=200, min_samples_split=4 has MSE: 201260.6148942, MAE: 202.3025747, R2: 0.9980701, RMSE: 448.6207919\n",
      "Experiment 18 with RandomForestRegressor using max_depth=5, n_estimators=200, min_samples_split=6 has MSE: 199519.2392752, MAE: 199.1591753, R2: 0.9980868, RMSE: 446.6757653\n",
      "Experiment 19 with RandomForestRegressor using max_depth=7, n_estimators=50, min_samples_split=2 has MSE: 162991.247153, MAE: 171.3595038, R2: 0.998437, RMSE: 403.7217447\n",
      "Experiment 20 with RandomForestRegressor using max_depth=7, n_estimators=50, min_samples_split=4 has MSE: 172563.9129835, MAE: 179.6405777, R2: 0.9983453, RMSE: 415.4081282\n",
      "Experiment 21 with RandomForestRegressor using max_depth=7, n_estimators=50, min_samples_split=6 has MSE: 159168.3487026, MAE: 162.5689317, R2: 0.9984737, RMSE: 398.9590815\n",
      "Experiment 22 with RandomForestRegressor using max_depth=7, n_estimators=100, min_samples_split=2 has MSE: 138348.8343816, MAE: 155.2742047, R2: 0.9986733, RMSE: 371.9527314\n",
      "Experiment 23 with RandomForestRegressor using max_depth=7, n_estimators=100, min_samples_split=4 has MSE: 150601.5028521, MAE: 162.6138877, R2: 0.9985559, RMSE: 388.0740945\n",
      "Experiment 24 with RandomForestRegressor using max_depth=7, n_estimators=100, min_samples_split=6 has MSE: 174557.1910441, MAE: 180.2029452, R2: 0.9983261, RMSE: 417.8004201\n",
      "Experiment 25 with RandomForestRegressor using max_depth=7, n_estimators=200, min_samples_split=2 has MSE: 156982.7050825, MAE: 167.4100665, R2: 0.9984947, RMSE: 396.2104303\n",
      "Experiment 26 with RandomForestRegressor using max_depth=7, n_estimators=200, min_samples_split=4 has MSE: 152562.5961697, MAE: 164.654983, R2: 0.9985371, RMSE: 390.5926218\n",
      "Experiment 27 with RandomForestRegressor using max_depth=7, n_estimators=200, min_samples_split=6 has MSE: 152096.9035183, MAE: 164.4206528, R2: 0.9985415, RMSE: 389.9960301\n",
      "\n",
      "\n",
      "Experiment 1 with GradientBoostingRegressor using learning_rate=0.01, n_estimators=50, max_depth=3 has MSE: 41629717.4970169, MAE: 5129.259938, R2: 0.6008055, RMSE: 6452.1095385\n",
      "Experiment 2 with GradientBoostingRegressor using learning_rate=0.01, n_estimators=50, max_depth=5 has MSE: 40920928.2340361, MAE: 5114.2157329, R2: 0.6076022, RMSE: 6396.94679\n"
     ]
    },
    {
     "name": "stdout",
     "output_type": "stream",
     "text": [
      "Experiment 3 with GradientBoostingRegressor using learning_rate=0.01, n_estimators=50, max_depth=7 has MSE: 40935508.4922014, MAE: 5113.2199614, R2: 0.6074624, RMSE: 6398.0863148\n",
      "Experiment 4 with GradientBoostingRegressor using learning_rate=0.01, n_estimators=100, max_depth=3 has MSE: 15067299.1732719, MAE: 3051.9054464, R2: 0.8555171, RMSE: 3881.6619087\n",
      "Experiment 5 with GradientBoostingRegressor using learning_rate=0.01, n_estimators=100, max_depth=5 has MSE: 14740236.6082677, MAE: 3044.0973449, R2: 0.8586533, RMSE: 3839.3015782\n",
      "Experiment 6 with GradientBoostingRegressor using learning_rate=0.01, n_estimators=100, max_depth=7 has MSE: 14827546.6367961, MAE: 3058.3272064, R2: 0.8578161, RMSE: 3850.6553516\n",
      "Experiment 7 with GradientBoostingRegressor using learning_rate=0.01, n_estimators=200, max_depth=3 has MSE: 1978570.9540379, MAE: 1097.7806003, R2: 0.9810271, RMSE: 1406.6168469\n",
      "Experiment 8 with GradientBoostingRegressor using learning_rate=0.01, n_estimators=200, max_depth=5 has MSE: 1917216.8919895, MAE: 1083.4125363, R2: 0.9816155, RMSE: 1384.6360143\n",
      "Experiment 9 with GradientBoostingRegressor using learning_rate=0.01, n_estimators=200, max_depth=7 has MSE: 1959992.1911681, MAE: 1081.5560457, R2: 0.9812053, RMSE: 1399.9972111\n",
      "Experiment 10 with GradientBoostingRegressor using learning_rate=0.1, n_estimators=50, max_depth=3 has MSE: 100658.1232462, MAE: 157.4718301, R2: 0.9990348, RMSE: 317.2666438\n",
      "Experiment 11 with GradientBoostingRegressor using learning_rate=0.1, n_estimators=50, max_depth=5 has MSE: 157974.9025401, MAE: 194.0933813, R2: 0.9984852, RMSE: 397.4605673\n",
      "Experiment 12 with GradientBoostingRegressor using learning_rate=0.1, n_estimators=50, max_depth=7 has MSE: 180667.0381769, MAE: 209.0672591, R2: 0.9982676, RMSE: 425.0494538\n",
      "Experiment 13 with GradientBoostingRegressor using learning_rate=0.1, n_estimators=100, max_depth=3 has MSE: 138553.0283547, MAE: 159.5577112, R2: 0.9986714, RMSE: 372.2271193\n",
      "Experiment 14 with GradientBoostingRegressor using learning_rate=0.1, n_estimators=100, max_depth=5 has MSE: 130171.404975, MAE: 151.7459525, R2: 0.9987518, RMSE: 360.7927452\n",
      "Experiment 15 with GradientBoostingRegressor using learning_rate=0.1, n_estimators=100, max_depth=7 has MSE: 167803.56485, MAE: 168.9781291, R2: 0.9983909, RMSE: 409.6383342\n",
      "Experiment 16 with GradientBoostingRegressor using learning_rate=0.1, n_estimators=200, max_depth=3 has MSE: 154900.4219233, MAE: 170.8552493, R2: 0.9985146, RMSE: 393.5739091\n",
      "Experiment 17 with GradientBoostingRegressor using learning_rate=0.1, n_estimators=200, max_depth=5 has MSE: 137465.8755821, MAE: 157.0519338, R2: 0.9986818, RMSE: 370.7639081\n",
      "Experiment 18 with GradientBoostingRegressor using learning_rate=0.1, n_estimators=200, max_depth=7 has MSE: 170117.0669069, MAE: 168.8616287, R2: 0.9983687, RMSE: 412.4525026\n",
      "Experiment 19 with GradientBoostingRegressor using learning_rate=1.0, n_estimators=50, max_depth=3 has MSE: 526556.7692908, MAE: 288.9287043, R2: 0.9949508, RMSE: 725.642315\n",
      "Experiment 20 with GradientBoostingRegressor using learning_rate=1.0, n_estimators=50, max_depth=5 has MSE: 573662.8630702, MAE: 319.212036, R2: 0.994499, RMSE: 757.4053492\n",
      "Experiment 21 with GradientBoostingRegressor using learning_rate=1.0, n_estimators=50, max_depth=7 has MSE: 527677.2813145, MAE: 301.5627538, R2: 0.99494, RMSE: 726.4139876\n",
      "Experiment 22 with GradientBoostingRegressor using learning_rate=1.0, n_estimators=100, max_depth=3 has MSE: 530533.9030235, MAE: 281.0518491, R2: 0.9949126, RMSE: 728.3775827\n",
      "Experiment 23 with GradientBoostingRegressor using learning_rate=1.0, n_estimators=100, max_depth=5 has MSE: 584657.3603892, MAE: 319.7809348, R2: 0.9943936, RMSE: 764.6289037\n",
      "Experiment 24 with GradientBoostingRegressor using learning_rate=1.0, n_estimators=100, max_depth=7 has MSE: 577275.4946319, MAE: 313.8856333, R2: 0.9944644, RMSE: 759.7864796\n",
      "Experiment 25 with GradientBoostingRegressor using learning_rate=1.0, n_estimators=200, max_depth=3 has MSE: 461364.4518504, MAE: 286.2094576, R2: 0.9955759, RMSE: 679.2381408\n",
      "Experiment 26 with GradientBoostingRegressor using learning_rate=1.0, n_estimators=200, max_depth=5 has MSE: 527795.1002024, MAE: 306.6202176, R2: 0.9949389, RMSE: 726.4950793\n",
      "Experiment 27 with GradientBoostingRegressor using learning_rate=1.0, n_estimators=200, max_depth=7 has MSE: 508595.4633613, MAE: 296.8446627, R2: 0.995123, RMSE: 713.1587925\n",
      "\n",
      "\n",
      "Experiment 1 with AdaBoostRegressor using learning_rate=0.01, n_estimators=50 has MSE: 1267614.6041215, MAE: 508.9203717, R2: 0.9878446, RMSE: 1125.8839212\n",
      "Experiment 2 with AdaBoostRegressor using learning_rate=0.01, n_estimators=100 has MSE: 1241318.9961115, MAE: 552.7396353, R2: 0.9880968, RMSE: 1114.1449619\n",
      "Experiment 3 with AdaBoostRegressor using learning_rate=0.01, n_estimators=200 has MSE: 1037847.1989123, MAE: 510.8193034, R2: 0.9900479, RMSE: 1018.7478584\n",
      "Experiment 4 with AdaBoostRegressor using learning_rate=0.1, n_estimators=50 has MSE: 1004750.8199881, MAE: 489.5476061, R2: 0.9903653, RMSE: 1002.3725954\n",
      "Experiment 5 with AdaBoostRegressor using learning_rate=0.1, n_estimators=100 has MSE: 747522.0062105, MAE: 430.9972539, R2: 0.9928319, RMSE: 864.5935497\n",
      "Experiment 6 with AdaBoostRegressor using learning_rate=0.1, n_estimators=200 has MSE: 380519.2590833, MAE: 329.7715699, R2: 0.9963511, RMSE: 616.8624312\n",
      "Experiment 7 with AdaBoostRegressor using learning_rate=1.0, n_estimators=50 has MSE: 372657.5343775, MAE: 330.7995609, R2: 0.9964265, RMSE: 610.4568243\n",
      "Experiment 8 with AdaBoostRegressor using learning_rate=1.0, n_estimators=100 has MSE: 316685.5794374, MAE: 319.7755744, R2: 0.9969632, RMSE: 562.7482381\n",
      "Experiment 9 with AdaBoostRegressor using learning_rate=1.0, n_estimators=200 has MSE: 318347.7342575, MAE: 316.0526772, R2: 0.9969473, RMSE: 564.2231245\n"
     ]
    }
   ],
   "source": [
    "x_train,y_train,x_val,y_val = load_data(train_path,val_path,test_path,validation_ind=True)\n",
    "best_params = parameter_tuning_validation(x_train, y_train, x_val, y_val)"
   ]
  },
  {
   "cell_type": "markdown",
   "id": "822d562e",
   "metadata": {},
   "source": [
    "<font size=\"3\"> \n",
    "Training and evaluation using testset\n",
    "</font>"
   ]
  },
  {
   "cell_type": "code",
   "execution_count": 13,
   "id": "e2c39b70",
   "metadata": {},
   "outputs": [],
   "source": [
    "# best_params= [{'kernel': 'linear', 'C': 15, 'gamma': 'scale'},\n",
    "#  {'criterion': 'squared_error', 'max_depth': 6, 'min_samples_split': 8},\n",
    "#  {'n_estimators': 25, 'max_depth': 5, 'eta': 0.3},\n",
    "#  {'fit_intercept': True, 'normalize': True},\n",
    "#  {'n_neighbors': 7, 'weights': 'distance', 'algorithm': 'ball_tree'},\n",
    "#  {'max_depth': 7, 'n_estimators': 100, 'min_samples_split': 2},\n",
    "#  {'learning_rate': 0.1, 'n_estimators': 100, 'max_depth': 5},\n",
    "#  {'learning_rate': 1.0, 'n_estimators': 200}]"
   ]
  },
  {
   "cell_type": "code",
   "execution_count": 15,
   "id": "d03b13f7",
   "metadata": {},
   "outputs": [
    {
     "name": "stdout",
     "output_type": "stream",
     "text": [
      "SVM model has MSE: 7236.1824337, MAE: 18.2342424, R2: 0.9998404, RMSE: 85.0657536\n",
      "Decision Tree model has MSE: 21728.965661, MAE: 55.9871724, R2: 0.9995206, RMSE: 147.4074817\n",
      "XGBoost model has MSE: 9557.6363633, MAE: 28.506349, R2: 0.9997891, RMSE: 97.7631647\n",
      "Linear Regression model has MSE: 6003.8641221, MAE: 21.1049014, R2: 0.9998675, RMSE: 77.4846057\n"
     ]
    },
    {
     "name": "stderr",
     "output_type": "stream",
     "text": [
      "/opt/homebrew/Caskroom/miniforge/base/envs/full_ml/lib/python3.8/site-packages/sklearn/linear_model/_base.py:141: FutureWarning: 'normalize' was deprecated in version 1.0 and will be removed in 1.2.\n",
      "If you wish to scale the data, use Pipeline with a StandardScaler in a preprocessing stage. To reproduce the previous behavior:\n",
      "\n",
      "from sklearn.pipeline import make_pipeline\n",
      "\n",
      "model = make_pipeline(StandardScaler(with_mean=False), LinearRegression())\n",
      "\n",
      "If you wish to pass a sample_weight parameter, you need to pass it as a fit parameter to each step of the pipeline as follows:\n",
      "\n",
      "kwargs = {s[0] + '__sample_weight': sample_weight for s in model.steps}\n",
      "model.fit(X, y, **kwargs)\n",
      "\n",
      "\n",
      "  warnings.warn(\n"
     ]
    },
    {
     "name": "stdout",
     "output_type": "stream",
     "text": [
      "KNN model has MSE: 2017898.5872869, MAE: 562.2954546, R2: 0.9554809, RMSE: 1420.5275736\n",
      "Random Forest model has MSE: 7089.6982027, MAE: 24.8680598, R2: 0.9998436, RMSE: 84.2003456\n",
      "Gradient Boosting model has MSE: 8427.7726556, MAE: 23.7278227, R2: 0.9998141, RMSE: 91.8029011\n",
      "AdaBoost model has MSE: 1004796.6390635, MAE: 907.0837078, R2: 0.9778321, RMSE: 1002.3954504\n"
     ]
    }
   ],
   "source": [
    "x_train,y_train,x_test,y_test = load_data(train_path,val_path,test_path,validation_ind=False)\n",
    "results =  evaluate_models(x_train, y_train, x_test, y_test, best_params)"
   ]
  },
  {
   "cell_type": "markdown",
   "id": "150be8c3",
   "metadata": {},
   "source": [
    "<font size=\"3\"> \n",
    "Plot results for comparison purposes \n",
    "</font>"
   ]
  },
  {
   "cell_type": "code",
   "execution_count": 16,
   "id": "7476c85e",
   "metadata": {},
   "outputs": [
    {
     "data": {
      "image/png": "[encoded data removed]",
      "text/plain": [
       "<Figure size 1200x800 with 4 Axes>"
      ]
     },
     "metadata": {},
     "output_type": "display_data"
    }
   ],
   "source": [
    "plot_all_metrics_train_val(results)"
   ]
  },
  {
   "cell_type": "code",
   "execution_count": null,
   "id": "8cf3ced3",
   "metadata": {},
   "outputs": [],
   "source": []
  }
 ],
 "metadata": {
  "kernelspec": {
   "display_name": "full_ml",
   "language": "python",
   "name": "full_ml"
  },
  "language_info": {
   "codemirror_mode": {
    "name": "ipython",
    "version": 3
   },
   "file_extension": ".py",
   "mimetype": "text/x-python",
   "name": "python",
   "nbconvert_exporter": "python",
   "pygments_lexer": "ipython3",
   "version": "3.8.13"
  }
 },
 "nbformat": 4,
 "nbformat_minor": 5
}
