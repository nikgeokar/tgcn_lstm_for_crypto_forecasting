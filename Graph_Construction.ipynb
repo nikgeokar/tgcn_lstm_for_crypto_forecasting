{
 "cells": [
  {
   "cell_type": "markdown",
   "id": "4baaa2a2",
   "metadata": {},
   "source": [
    "<h1>\n",
    "<center>Graph Construction </center>\n",
    "</h1>"
   ]
  },
  {
   "cell_type": "markdown",
   "id": "0d8205c1",
   "metadata": {},
   "source": [
    "<font size=\"3\">\n",
    "<center>\n",
    "The goal of this notebook is to transform the data so that it is in suitable format to be input to the temporal graph neural networks. \n",
    "<br>\n",
    "In summary we convert to <b>Dynamic Graph with Temporal singal</b> format\n",
    "</center>\n",
    "</font>"
   ]
  },
  {
   "cell_type": "markdown",
   "id": "7fe87078",
   "metadata": {},
   "source": [
    "<br>"
   ]
  },
  {
   "cell_type": "markdown",
   "id": "d8c5bd6d",
   "metadata": {},
   "source": [
    "<font size=\"3\">\n",
    "The notebook takes as input pandas DataFrames (training-set, validation-set, test-set)\n",
    "\n",
    "    The notebook outputs multidimensional numpy arrays:\n",
    "<ol>\n",
    "<li>Edge Features with shape of: (timesteps, assets, features).</li>\n",
    "<li>Edge Targets with shape of: (timesteps, assets, target).</li>\n",
    "<li>Edges with shape of (timesteps, 2, assets*assets).</li>\n",
    "<li>Edge Weights with shape of (timesteps, assets*assets).</li>\n",
    "</font>"
   ]
  },
  {
   "cell_type": "markdown",
   "id": "a22ec3ad",
   "metadata": {},
   "source": [
    "## Generals "
   ]
  },
  {
   "cell_type": "markdown",
   "id": "f4c1bb1a",
   "metadata": {},
   "source": [
    "<font size=\"3\"> \n",
    "Packages import and system configurations. \n",
    "</font>"
   ]
  },
  {
   "cell_type": "code",
   "execution_count": null,
   "id": "b624e99e",
   "metadata": {},
   "outputs": [],
   "source": [
    "#Data\n",
    "import os\n",
    "import pandas as pd\n",
    "import numpy as np\n",
    "from tqdm import tqdm\n",
    "import pickle\n",
    "import shutil\n",
    "import math\n",
    "from datetime import datetime\n",
    "#Graph Counstruction\n",
    "import torch\n",
    "from torch_geometric_temporal.signal import StaticGraphTemporalSignal\n",
    "from statsmodels.tsa.stattools import grangercausalitytests\n",
    "import matplotlib.pyplot as plt\n",
    "from sklearn.preprocessing import StandardScaler\n",
    "from numpy import *\n",
    "\n",
    "import torch\n",
    "import torch.nn.functional as F\n",
    "from torch_geometric_temporal.nn.recurrent import A3TGCN2\n",
    "from torch.nn import Linear\n",
    "from torch.nn import ReLU\n",
    "import torch.nn as nn\n",
    "from torch.nn.init import kaiming_uniform_"
   ]
  },
  {
   "cell_type": "markdown",
   "id": "0481bfd5",
   "metadata": {},
   "source": [
    "<font size=\"3\"> \n",
    "Define necessary paths. \n",
    "</font>"
   ]
  },
  {
   "cell_type": "code",
   "execution_count": null,
   "id": "60607b14",
   "metadata": {},
   "outputs": [],
   "source": [
    "train_path = 'io/input/base_data/train.csv'\n",
    "test_path = 'io/input/base_data/test.csv'\n",
    "val_path ='io/input/base_data/valid.csv'\n",
    "\n",
    "data_intermediate_path ='io/input/data_intermediate/'\n",
    "granger_results_path = data_intermediate_path + 'granger_results/'\n",
    "\n",
    "train_node_features_path = data_intermediate_path + 'node_features/train/'\n",
    "train_node_labels_path = data_intermediate_path + 'node_labels/train/'\n",
    "train_edges_path = data_intermediate_path + 'edges/train/'\n",
    "train_edge_weights_path = data_intermediate_path + 'edge_weights/train/'\n",
    "\n",
    "val_node_labels_path = data_intermediate_path + 'node_labels/val/'\n",
    "val_node_features_path = data_intermediate_path + 'node_features/val/'\n",
    "val_edges_path = data_intermediate_path + 'edges/val/'\n",
    "val_edge_weights_path = data_intermediate_path + 'edge_weights/val/'\n",
    "\n",
    "test_node_labels_path = data_intermediate_path + 'node_labels/test/'\n",
    "test_node_features_path = data_intermediate_path + 'node_features/test/'\n",
    "test_edges_path = data_intermediate_path + 'edges/test/'\n",
    "test_edge_weights_path = data_intermediate_path + 'edge_weights/test/'\n",
    "\n",
    "plot_export_path = 'io/output/exports/analysis_plots/'\n",
    "chunk_size = 10000\n",
    "train_timesteps = 100000\n",
    "val_timesteps = 1000000\n",
    "test_timesteps = 100000\n",
    "total_timesteps = train_timesteps + val_timesteps + test_timesteps"
   ]
  },
  {
   "cell_type": "markdown",
   "id": "92cf08c6",
   "metadata": {},
   "source": [
    "## Core Functionality"
   ]
  },
  {
   "cell_type": "markdown",
   "id": "683ecfee",
   "metadata": {},
   "source": [
    "<font size=\"3\"> \n",
    "Save numpy arrays on chunks. \n",
    "</font>"
   ]
  },
  {
   "cell_type": "code",
   "execution_count": null,
   "id": "be518118",
   "metadata": {},
   "outputs": [],
   "source": [
    "def save_object(arr,chunk_size,path):\n",
    "    num_chunks = arr.shape[0] // chunk_size + 1\n",
    "    shutil.rmtree(path)\n",
    "    os.makedirs(path)\n",
    "    for i in tqdm(range(num_chunks)):\n",
    "        chunk = arr[i*chunk_size:(i+1)*chunk_size, :]\n",
    "        filename = f\"{path}chunk_{i}.npy\"\n",
    "        np.save(filename, chunk)"
   ]
  },
  {
   "cell_type": "markdown",
   "id": "a0ce9566",
   "metadata": {},
   "source": [
    "<font size=\"3\"> \n",
    "Load numpy arrays on chunks. \n",
    "</font>"
   ]
  },
  {
   "cell_type": "code",
   "execution_count": null,
   "id": "253b4f5e",
   "metadata": {},
   "outputs": [],
   "source": [
    "def load_object(path):\n",
    "    num_chunks = len([f for f in os.listdir(path) if f.startswith('chunk_') and f.endswith('.npy')])\n",
    "    # Load array from chunks\n",
    "    chunks = []\n",
    "    for i in range(num_chunks):\n",
    "        filename = f\"{path}chunk_{i}.npy\"\n",
    "        print()\n",
    "        chunk = np.load(filename,allow_pickle=True)\n",
    "        chunks.append(chunk)\n",
    "    arr_reconstructed = np.concatenate(chunks, axis=0)\n",
    "    return arr_reconstructed"
   ]
  },
  {
   "cell_type": "markdown",
   "id": "65996bec",
   "metadata": {},
   "source": [
    "### Data Preprocesing"
   ]
  },
  {
   "cell_type": "markdown",
   "id": "4d50f0d0",
   "metadata": {},
   "source": [
    "<font size=\"3\"> \n",
    "Load and preprocess dataframes. \n",
    "</font>"
   ]
  },
  {
   "cell_type": "code",
   "execution_count": null,
   "id": "7dccf7ea",
   "metadata": {},
   "outputs": [],
   "source": [
    "def load_data(train_path,val_path,test_path):\n",
    "    trainset = pd.read_csv(train_path,index_col=0)\n",
    "    trainset = convert_index(trainset)\n",
    "    \n",
    "    testset = pd.read_csv(test_path,index_col=0)\n",
    "    testset = convert_index(testset)\n",
    "    \n",
    "    valset = pd.read_csv(val_path,index_col=0)\n",
    "    valset = convert_index(valset)\n",
    "    \n",
    "    trainset_full = pd.concat([trainset, valset], ignore_index=True)\n",
    "    trainset_full,scaller = scalle_df(trainset_full,None)    \n",
    "    trainset,scaller1 = scalle_df(trainset,scaller)\n",
    "    testset,scaller1 = scalle_df(testset,scaller)\n",
    "    valset,scaller1 = scalle_df(valset,scaller)\n",
    "    return trainset,valset,testset"
   ]
  },
  {
   "cell_type": "markdown",
   "id": "dd934f78",
   "metadata": {},
   "source": [
    "<font size=\"3\"> \n",
    "Apply Standardization. \n",
    "</font>"
   ]
  },
  {
   "cell_type": "code",
   "execution_count": null,
   "id": "aa38bf0c",
   "metadata": {},
   "outputs": [],
   "source": [
    "def scalle_df(df,scaller):\n",
    "    cols_to_scale = df.columns.difference([\"Date\",\"Asset_id\",\"Target\"])\n",
    "    if scaller == None:\n",
    "        scaler = StandardScaler()\n",
    "        scaled_data = scaler.fit_transform(df[cols_to_scale])\n",
    "    else:\n",
    "        scaled_data = scaler.transform(df[cols_to_scale])\n",
    "    cols_to_scale = df.columns.difference([\"Date\",\"Asset_id\",\"Target\"])\n",
    "    scaled_df = pd.DataFrame(scaled_data, columns=cols_to_scale)\n",
    "    scaled_df = pd.concat([df[\"Date\"], scaled_df, df[\"Asset_id\"],df[\"Target\"]], axis=1)\n",
    "    return scaled_df,scaller"
   ]
  },
  {
   "cell_type": "markdown",
   "id": "71454db5",
   "metadata": {},
   "source": [
    "<font size=\"3\"> \n",
    "Convert index to datetime. \n",
    "</font>"
   ]
  },
  {
   "cell_type": "code",
   "execution_count": null,
   "id": "5ca63938",
   "metadata": {},
   "outputs": [],
   "source": [
    "def convert_index(df): \n",
    "    df['Date'] = df.index\n",
    "    df.reset_index(inplace=True,col_fill=['Date'])\n",
    "    df = df.drop(['index'], axis=1) \n",
    "    df['Date'] = pd.to_datetime(df['Date'])\n",
    "    return df"
   ]
  },
  {
   "cell_type": "markdown",
   "id": "fc7b9b9b",
   "metadata": {},
   "source": [
    "## Graph info construction"
   ]
  },
  {
   "cell_type": "markdown",
   "id": "7c2c8736",
   "metadata": {},
   "source": [
    "<font size=\"3\">\n",
    "At this part we convert the dataframes to be suitalble for graph neural networks input. Finaly we construct:\n",
    "<ol>\n",
    "<li>Node features.</li>\n",
    "<li>Node Targes.</li>\n",
    "<li>Edges.</li>\n",
    "<li>Edge Weights.</li>\n",
    "        \n",
    "    \n",
    "    Process have applied both of train, validation and test sets"
   ]
  },
  {
   "cell_type": "markdown",
   "id": "cf57c557",
   "metadata": {},
   "source": [
    "<font size=\"3\"> \n",
    "Node features construction. \n",
    "</font>"
   ]
  },
  {
   "cell_type": "code",
   "execution_count": null,
   "id": "e0366c8f",
   "metadata": {},
   "outputs": [],
   "source": [
    "def node_features_construction(df,timesteps):\n",
    "    feature_names = df.columns   \n",
    "    # Get a list of all unique asset IDs in the dataset\n",
    "    asset_ids = df['Asset_id'].unique()\n",
    "    dates = sorted(df['Date'].unique())\n",
    "\n",
    "    # Get a list of all features in the dataset\n",
    "    features = list(df.columns)\n",
    "    features.remove('Date')\n",
    "    features.remove('Asset_id')\n",
    "    features.remove('Target')\n",
    "    results=[]\n",
    "    results=[0 for i in range(len(dates))]\n",
    "\n",
    "    for i in tqdm( range (0,len(dates))):\n",
    "        results[i] = df[df[\"Date\"]==dates[i]]\n",
    "        results[i] = results[i].sort_values('Asset_id', ascending=True)\n",
    "        results[i] = results[i].drop(['Date'], axis=1)\n",
    "        results[i] = results[i].drop(['Asset_id'], axis=1)\n",
    "        results[i] = results[i].drop(['Target'], axis=1)\n",
    "    \n",
    "    results = results[:timesteps]\n",
    "    np_result = np.array(results)\n",
    "    np_result = np.reshape(np_result, (len(results),len(asset_ids),len(features),1))\n",
    "    return np_result"
   ]
  },
  {
   "cell_type": "markdown",
   "id": "95946745",
   "metadata": {},
   "source": [
    "<font size=\"3\"> \n",
    "Node Labels construction. \n",
    "</font>"
   ]
  },
  {
   "cell_type": "code",
   "execution_count": null,
   "id": "9da95b7f",
   "metadata": {},
   "outputs": [],
   "source": [
    "def node_labels_construction(df,timesteps):\n",
    "    asset_ids = df['Asset_id'].unique()\n",
    "    dates = sorted(df['Date'].unique())\n",
    "    dates = dates[:timesteps]\n",
    "    df = df.sort_values('Date', ascending=True)\n",
    "    df = df.loc[df['Date'].isin(dates)].reset_index(drop=True)\n",
    "    result = df.pivot(index='Date', columns='Asset_id', values='Target')\n",
    "    result = np.array(result)\n",
    "    result = np.reshape(result, (len(result), len(asset_ids),1))\n",
    "    return result"
   ]
  },
  {
   "cell_type": "markdown",
   "id": "e289d0ff",
   "metadata": {},
   "source": [
    "### Edge Info "
   ]
  },
  {
   "cell_type": "markdown",
   "id": "9f1097d3",
   "metadata": {},
   "source": [
    "<font size=\"3\">\n",
    "We Create directed edges and edge weights between assets based on the Granger causality values, using target's times-series.\n",
    "<br>\n",
    "<br>\n",
    "This Funciton Perform a Granger causality test on a DataFrame containing time series data for multiple assets and finally create the adjacency matrixes for each timesteps while:\n",
    "<ol>\n",
    "<li>Loop through each pair of asset IDs and calculate the Granger causality in both directions using the grangercausalitytests function.</li>\n",
    "<li>Add the maximum F statistic value to the adjacency matrix if there is data available for the pair of asset IDs.</li>\n",
    "<li>Return a list of adjacency matrices for each timestamp, as well as a list of asset IDs and a list of dates.</li>\n",
    "<li>Edge Weights.</li>"
   ]
  },
  {
   "cell_type": "code",
   "execution_count": null,
   "id": "15c1b2d4",
   "metadata": {
    "scrolled": false
   },
   "outputs": [],
   "source": [
    "def adjency_matrixes_granger_test(df,timsteps):\n",
    "    df_pivot = df.pivot_table(index='Date', columns='Asset_id', values='Target')\n",
    "    df_pivot = df_pivot.head(timsteps)\n",
    "    date_list = df_pivot.index\n",
    "    asset_ids = df_pivot.columns\n",
    "    # Create an empty list to store the adjacency matrices\n",
    "    adj_matrices = []\n",
    "\n",
    "    # Loop through each timestamp\n",
    "    for i in tqdm (range (len(df_pivot))):\n",
    "\n",
    "        # Select the data up to the current timestamp\n",
    "        data = df_pivot.iloc[:i+1,:]\n",
    "        \n",
    "        # Create an empty adjacency matrix for the current timestamp\n",
    "        adj_matrix = np.zeros((len(df_pivot.columns), len(df_pivot.columns)))\n",
    "\n",
    "        # Loop through each combination of asset IDs\n",
    "        for j in range(len(df_pivot.columns)):\n",
    "            for k in range(len(df_pivot.columns)):\n",
    "\n",
    "                # Skip if j and k are the same asset ID\n",
    "                if j == k:\n",
    "                    continue\n",
    "\n",
    "                # Select the data for the current pair of asset IDs\n",
    "                data_jk = data.iloc[:,[j,k]].dropna()\n",
    "\n",
    "                # Skip if there is no data for the current pair of asset IDs\n",
    "                if len(data_jk) == 0:\n",
    "                    continue\n",
    "\n",
    "                # Calculate Granger causality in both directions between j and k\n",
    "                try:\n",
    "                    result1 = grangercausalitytests(data_jk, maxlag=1, verbose=False)\n",
    "                    max_F_statistic1 = max(result1[lag][0]['params_ftest'][0] for lag in result1.keys())\n",
    "                except:\n",
    "                    max_F_statistic1 = None\n",
    "\n",
    "                # Add the Granger causality values to the adjacency matrix\n",
    "                if max_F_statistic1 is not None: #and max_F_statistic2 is not None:\n",
    "                    adj_matrix[j,k] = max_F_statistic1\n",
    "\n",
    "        # Add the current adjacency matrix to the list of adjacency matrices\n",
    "        adj_matrices.append(adj_matrix)\n",
    "    return adj_matrices,asset_ids,date_list"
   ]
  },
  {
   "cell_type": "markdown",
   "id": "f560d12c",
   "metadata": {},
   "source": [
    "<font size=\"3\"> \n",
    "Split edge weights adjacency matrixes to train, validation and test sets. \n",
    "</font>"
   ]
  },
  {
   "cell_type": "code",
   "execution_count": null,
   "id": "a6e4faf2",
   "metadata": {},
   "outputs": [],
   "source": [
    "def split_adjency_matrixes(x,y,z1,z2,z3):\n",
    "    x1,x2,x3 = [],[],[]\n",
    "    # Iterate through the names and dates in x and y\n",
    "    for i in range(x.shape[0]):\n",
    "        name = x[i]\n",
    "        date = y[i]\n",
    "        # Determine which array to append the name to based on its date\n",
    "        date_obj = datetime.strptime(str(date), '%Y-%m-%d %H:%M:%S')\n",
    "        # Determine which array to append the name to based on its date\n",
    "        if pd.Series(date).isin(z1).any():\n",
    "            x1.append(name)\n",
    "        if pd.Series(date).isin(z2).any():\n",
    "            x2.append(name)\n",
    "        if pd.Series(date).isin(z3).any():\n",
    "            x3.append(name)\n",
    "    return np.array(x1),np.array(x2),np.array(x3)"
   ]
  },
  {
   "cell_type": "markdown",
   "id": "616b0715",
   "metadata": {},
   "source": [
    "<font size=\"3\"> \n",
    "Nomalize edge weights to range 0.1-0.9.\n",
    "</font>"
   ]
  },
  {
   "cell_type": "code",
   "execution_count": null,
   "id": "6f02a19f",
   "metadata": {},
   "outputs": [],
   "source": [
    "def normalize_adj(adjency_matrixes):\n",
    "    norm_adjency_matrixes = []\n",
    "    for adj in tqdm(adjency_matrixes):\n",
    "        # Create a copy of the input matrix\n",
    "        adj_norm = np.copy(adj)\n",
    "        # Get the diagonal indices\n",
    "        diag_indices = np.diag_indices(adj.shape[0])\n",
    "        # Set the diagonal elements to 1\n",
    "        adj_norm[diag_indices] = 1\n",
    "        # Normalize the non-diagonal elements on the range 0.1-0.9\n",
    "        non_diag_mask = np.ones(adj.shape, dtype=bool)\n",
    "        non_diag_mask[diag_indices] = False\n",
    "        adj_norm[non_diag_mask] = 0.1 + 0.8 * (adj_norm[non_diag_mask] - np.min(adj_norm[non_diag_mask])) / (np.max(adj_norm[non_diag_mask]) - np.min(adj_norm[non_diag_mask]))\n",
    "        norm_adjency_matrixes.append(adj_norm)\n",
    "    norm_adjency_matrixes = np.array(norm_adjency_matrixes)\n",
    "    return norm_adjency_matrixes"
   ]
  },
  {
   "cell_type": "markdown",
   "id": "9aa61349",
   "metadata": {},
   "source": [
    "<font size=\"3\"> \n",
    "Convert edges and edge-weights to the final format (multy-dimensional numpy arrays).\n",
    "</font>"
   ]
  },
  {
   "cell_type": "code",
   "execution_count": null,
   "id": "fb69b3b1",
   "metadata": {},
   "outputs": [],
   "source": [
    "def adj_to_edge_lists(norm_adjency_matrixes):\n",
    "    undirected_edges_list = []\n",
    "    undirected_weights_list = [] \n",
    "    \n",
    "    for adj_matrix in tqdm(norm_adjency_matrixes):\n",
    "        edges = np.transpose(np.where(adj_matrix != 0))\n",
    "        edge_weights = adj_matrix[edges[:, 0], edges[:, 1]]\n",
    "        edges = [list(edges[:, 0] + 1), list(edges[:, 1] + 1)]\n",
    "        edg_weights = list(edge_weights)\n",
    "        undirected_edges_list.append(edges)\n",
    "        undirected_weights_list.append(edge_weights)\n",
    "    \n",
    "    undirected_edges_list = np.array(undirected_edges_list)\n",
    "    undirected_edges_list = undirected_edges_list - 1\n",
    "    undirected_weights_list = np.array(undirected_weights_list)\n",
    "    where_are_NaNs = isnan(undirected_weights_list)\n",
    "    undirected_weights_list[where_are_NaNs] = 0\n",
    "    return undirected_edges_list,undirected_weights_list"
   ]
  },
  {
   "cell_type": "markdown",
   "id": "065a98ad",
   "metadata": {},
   "source": [
    "<font size=\"3\"> \n",
    "Plot adjency matrixes of the edges.\n",
    "</font"
   ]
  },
  {
   "cell_type": "code",
   "execution_count": null,
   "id": "adead2ec",
   "metadata": {},
   "outputs": [],
   "source": [
    "def plot_adjency_matrixes(adj_matrix1,adj_matrix2,labels,date1,date2,plot_export_path):\n",
    "    # Create two random adjacency matrices\n",
    "    labels = asset_ids\n",
    "    # Set up the figure and two subplots\n",
    "    fig, (ax1, ax2) = plt.subplots(1, 2, figsize=(16, 8))\n",
    "    # Plot the first adjacency matrix\n",
    "    im1 = ax1.imshow(adj_matrix1, cmap='coolwarm', interpolation='None')\n",
    "    ax1.set_xticks(np.arange(len(labels)))\n",
    "    ax1.set_yticks(np.arange(len(labels)))\n",
    "    ax1.set_xticklabels(labels,rotation=90)\n",
    "    ax1.set_yticklabels(labels)\n",
    "    ax1.tick_params(axis='both', labelsize=12)\n",
    "    ax1.set_title(date1)\n",
    "    # Plot the second adjacency matrix\n",
    "    im2 = ax2.imshow(adj_matrix2, cmap='coolwarm', interpolation='None')\n",
    "    ax2.set_xticks(np.arange(len(labels)))\n",
    "    ax2.set_yticks(np.arange(len(labels)))\n",
    "    ax2.set_xticklabels(labels,rotation=90)\n",
    "    ax2.set_yticklabels(labels)\n",
    "    ax2.tick_params(axis='both', labelsize=12)\n",
    "    ax2.set_title(date2)\n",
    "    # Add the matrix values as text to the plots\n",
    "    for ax, adj_matrix in zip([ax1, ax2], [adj_matrix1, adj_matrix2]):\n",
    "        for i in range(adj_matrix.shape[0]):\n",
    "            for j in range(adj_matrix.shape[1]):\n",
    "                text = ax.text(j, i, round(adj_matrix[i, j],1),\n",
    "                               ha=\"center\", va=\"center\", color=\"w\", fontsize=12)\n",
    "    # Set the title of the figure\n",
    "    fig.suptitle(\"Dynamic Graph Edge Info\", fontsize=18)\n",
    "    # Adjust the spacing between subplots\n",
    "    fig.tight_layout(pad=2)\n",
    "    # Display the plot\n",
    "    plt.savefig(plot_export_path + 'Adjency_Matrixes.png')\n",
    "    plt.show()"
   ]
  },
  {
   "cell_type": "markdown",
   "id": "e5dc20ec",
   "metadata": {},
   "source": [
    "## Pipeline Execution"
   ]
  },
  {
   "cell_type": "markdown",
   "id": "e4937ee4",
   "metadata": {},
   "source": [
    "<font size=\"3\"> \n",
    "Node Features and Nodel labels construction and save \n",
    "</font"
   ]
  },
  {
   "cell_type": "code",
   "execution_count": null,
   "id": "9231cd85",
   "metadata": {},
   "outputs": [],
   "source": [
    "trainset,valset,testset = load_data(train_path,val_path,test_path)\n",
    "\n",
    "# Train-set\n",
    "print('Construction: train node features')\n",
    "train_node_features = node_features_construction(trainset,train_timesteps)\n",
    "save_object(train_node_features,chunk_size,train_node_features_path)\n",
    "\n",
    "print('Construction: train node labels')\n",
    "train_node_labels = node_labels_construction(trainset,train_timesteps)\n",
    "save_object(train_node_labels,chunk_size,train_node_labels_path)\n",
    "\n",
    "# Validation-set\n",
    "print('Construction: val node features')\n",
    "val_node_features = node_features_construction(valset,val_timesteps)\n",
    "save_object(val_node_features,chunk_size,val_node_features_path)\n",
    "\n",
    "print('Construction: val node labels')\n",
    "val_node_labels = node_labels_construction(valset,val_timesteps)\n",
    "save_object(val_node_labels,chunk_size,val_node_labels_path)\n",
    "\n",
    "# Test-set\n",
    "print('Construction: test node features')\n",
    "test_node_features = node_features_construction(testset,test_timesteps)\n",
    "save_object(test_node_features,chunk_size,test_node_features_path)\n",
    "\n",
    "print('Construction: test node labels')\n",
    "test_node_labels = node_labels_construction(testset,test_timesteps)\n",
    "save_object(test_node_labels,chunk_size,test_node_labels_path)"
   ]
  },
  {
   "cell_type": "markdown",
   "id": "8e4e1169",
   "metadata": {},
   "source": [
    "### Create and saved edges and edge-weights "
   ]
  },
  {
   "cell_type": "markdown",
   "id": "6b29d9ca",
   "metadata": {},
   "source": [
    "<font size=\"3\"> \n",
    "Edges and Edge-Weights construction and save \n",
    "</font"
   ]
  },
  {
   "cell_type": "code",
   "execution_count": null,
   "id": "aa590f34",
   "metadata": {
    "scrolled": false
   },
   "outputs": [],
   "source": [
    "#Load Datasets\n",
    "trainset,valset,testset = load_data(train_path,val_path,test_path)\n",
    "train_dates,validation_dates,test_dates = trainset['Date'].tolist(),valset['Date'].tolist(),testset['Date'].tolist()\n",
    "frames = [trainset,valset,testset]\n",
    "full_dataset = pd.concat(frames)\n",
    "\n",
    "\n",
    "# (!) -----> Apply Grager Casuality test.\n",
    "# (!) -----> Grager Casualty test was very time consuming so we have do it once and save the results. \n",
    "\n",
    "\n",
    "# adjency_matrixes,asset_ids,dates = adjency_matrixes_granger_test(full_dataset,total_timesteps)\n",
    "\n",
    "# print('Save: Grager results')\n",
    "# save_object(np.array(adjency_matrixes),chunk_size,granger_results_path)\n",
    "# with open(granger_results_path + 'asset_ids.pkl', 'wb') as f:\n",
    "#     pd.to_pickle(asset_ids, f)\n",
    "# with open(granger_results_path + 'date.pkl', 'wb') as f:\n",
    "#     pd.to_pickle(dates, f)\n",
    "\n",
    "print('Load: Grager results')\n",
    "adjency_matrixes = load_object(granger_results_path)\n",
    "with open(granger_results_path + 'asset_ids.pkl', 'rb') as f:\n",
    "    asset_ids = pd.read_pickle(f)\n",
    "with open(granger_results_path + 'date.pkl', 'rb') as f:\n",
    "    dates = pd.read_pickle(f)\n",
    "\n",
    "\n",
    "norm_adjency_matrixes = normalize_adj(adjency_matrixes)\n",
    "undirected_edges,undirected_weights = adj_to_edge_lists(norm_adjency_matrixes)\n",
    "train_undirected_edges,val_undirected_edges,test_undirected_edges = split_adjency_matrixes(undirected_edges,dates,train_dates,validation_dates,test_dates)\n",
    "train_undirected_weights,val_undirected_weights,test_undirected_weights = split_adjency_matrixes(undirected_weights,dates,train_dates,validation_dates,test_dates)\n",
    "\n",
    "# Train-set\n",
    "print('Save: train edge info')\n",
    "save_object(train_undirected_edges,chunk_size,train_edges_path)\n",
    "save_object(train_undirected_weights,chunk_size,train_edge_weights_path)\n",
    "\n",
    "# Validation-set\n",
    "print('Save: val edge info')\n",
    "save_object(val_undirected_edges,chunk_size,val_edges_path)\n",
    "save_object(val_undirected_weights,chunk_size,val_edge_weights_path)\n",
    "\n",
    "# Test-set\n",
    "print('Save: test edge info')\n",
    "save_object(test_undirected_edges,chunk_size,test_edges_path)\n",
    "save_object(test_undirected_weights,chunk_size,test_edge_weights_path)"
   ]
  },
  {
   "cell_type": "markdown",
   "id": "234f2c8f",
   "metadata": {},
   "source": [
    "<font size=\"3\"> \n",
    "Plot adjacency matrixes for comparison purposes \n",
    "</font>"
   ]
  },
  {
   "cell_type": "code",
   "execution_count": null,
   "id": "7b2c2468",
   "metadata": {},
   "outputs": [],
   "source": [
    "plot_adjency_matrixes(adjency_matrixes[100],adjency_matrixes[-16],asset_ids,dates[100],dates[-16],plot_export_path)\n"
   ]
  },
  {
   "cell_type": "code",
   "execution_count": null,
   "id": "1d232093",
   "metadata": {},
   "outputs": [],
   "source": [
    "def plot_adjency_matrix(adj_matrix, labels, date, plot_export_path):\n",
    "    # Create a random adjacency matrix\n",
    "    labels = asset_ids\n",
    "    # Set up the figure\n",
    "    fig, ax = plt.subplots(figsize=(16, 8))\n",
    "    # Plot the adjacency matrix\n",
    "    im = ax.imshow(adj_matrix, cmap='coolwarm', interpolation='None')\n",
    "    ax.set_xticks(np.arange(len(labels)))\n",
    "    ax.set_yticks(np.arange(len(labels)))\n",
    "    ax.set_xticklabels(labels,rotation=90)\n",
    "    ax.set_yticklabels(labels)\n",
    "    ax.tick_params(axis='both', labelsize=12)\n",
    "    #ax.set_title(date)\n",
    "    # Add the matrix values as text to the plot\n",
    "    for i in range(adj_matrix.shape[0]):\n",
    "        for j in range(adj_matrix.shape[1]):\n",
    "            text = ax.text(j, i, round(adj_matrix[i, j],1),\n",
    "                           ha=\"center\", va=\"center\", color=\"w\", fontsize=12)\n",
    "    # Set the title of the figure\n",
    "    fig.suptitle(date, fontsize=18)\n",
    "    # Adjust the spacing between subplots\n",
    "    fig.tight_layout(pad=2)\n",
    "    # Display the plot\n",
    "    plt.savefig(plot_export_path + str(date)+'Adjency_Matrix.png', pad_inches=0, dpi=300,format='png')\n",
    "    plt.show()\n",
    "\n",
    "# Call the function for the first adjacency matrix\n",
    "plot_adjency_matrix(adjency_matrixes[100],asset_ids,dates[100],plot_export_path,)\n",
    "\n",
    "# Call the function for the second adjacency matrix\n",
    "plot_adjency_matrix(adjency_matrixes[300],asset_ids,dates[300],plot_export_path)\n",
    "\n",
    "plot_adjency_matrix(adjency_matrixes[5000],asset_ids,dates[5000],plot_export_path)"
   ]
  },
  {
   "cell_type": "code",
   "execution_count": null,
   "id": "5b49867d",
   "metadata": {},
   "outputs": [],
   "source": []
  }
 ],
 "metadata": {
  "kernelspec": {
   "display_name": "full_ml",
   "language": "python",
   "name": "full_ml"
  },
  "language_info": {
   "codemirror_mode": {
    "name": "ipython",
    "version": 3
   },
   "file_extension": ".py",
   "mimetype": "text/x-python",
   "name": "python",
   "nbconvert_exporter": "python",
   "pygments_lexer": "ipython3",
   "version": "3.8.13"
  }
 },
 "nbformat": 4,
 "nbformat_minor": 5
}
