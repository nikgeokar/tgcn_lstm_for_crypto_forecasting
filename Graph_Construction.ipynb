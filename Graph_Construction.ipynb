{
 "cells": [
  {
   "cell_type": "markdown",
   "id": "4baaa2a2",
   "metadata": {},
   "source": [
    "<h1>\n",
    "<center>Graph Construction </center>\n",
    "</h1>"
   ]
  },
  {
   "cell_type": "markdown",
   "id": "a22ec3ad",
   "metadata": {},
   "source": [
    "### Generals "
   ]
  },
  {
   "cell_type": "markdown",
   "id": "f4c1bb1a",
   "metadata": {},
   "source": [
    "Dependencies"
   ]
  },
  {
   "cell_type": "code",
   "execution_count": 1,
   "id": "b624e99e",
   "metadata": {},
   "outputs": [],
   "source": [
    "#Data\n",
    "import os\n",
    "import pandas as pd\n",
    "import numpy as np\n",
    "from tqdm import tqdm\n",
    "import pickle\n",
    "import shutil\n",
    "\n",
    "#Graph Counstruction\n",
    "import torch\n",
    "from torch_geometric_temporal.signal import StaticGraphTemporalSignal\n",
    "from statsmodels.tsa.stattools import grangercausalitytests\n",
    "import matplotlib.pyplot as plt\n",
    "\n",
    "\n",
    "import torch\n",
    "import torch.nn.functional as F\n",
    "from torch_geometric_temporal.nn.recurrent import A3TGCN2\n",
    "from torch.nn import Linear\n",
    "from torch.nn import ReLU\n",
    "import torch.nn as nn\n",
    "from torch.nn.init import kaiming_uniform_"
   ]
  },
  {
   "cell_type": "markdown",
   "id": "0481bfd5",
   "metadata": {},
   "source": [
    "Envariables"
   ]
  },
  {
   "cell_type": "code",
   "execution_count": 2,
   "id": "60607b14",
   "metadata": {},
   "outputs": [],
   "source": [
    "train_path = 'io/input/base_data/trainset.csv'\n",
    "test_path = 'io/input/base_data/testset.csv'\n",
    "val_path ='io/input/base_data/valset.csv'\n",
    "\n",
    "data_intermediate_path ='io/input/data_intermediate/'\n",
    "\n",
    "train_node_features_path = data_intermediate_path + 'node_features/train/'\n",
    "train_node_labels_path = data_intermediate_path + 'node_labels/train/'\n",
    "train_edges_path = data_intermediate_path + 'edges/train/'\n",
    "train_edge_weights_path = data_intermediate_path + 'edge_weights/train/'\n",
    "\n",
    "val_node_labels_path = data_intermediate_path + 'node_labels/val/'\n",
    "val_node_features_path = data_intermediate_path + 'node_features/val/'\n",
    "val_edges_path = data_intermediate_path + 'edges/val/'\n",
    "val_edge_weights_path = data_intermediate_path + 'edge_weights/val/'\n",
    "\n",
    "test_node_labels_path = data_intermediate_path + 'node_labels/test/'\n",
    "test_node_features_path = data_intermediate_path + 'node_features/test/'\n",
    "test_edges_path = data_intermediate_path + 'edges/test/'\n",
    "test_edge_weights_path = data_intermediate_path + 'edge_weights/test/'\n",
    "\n",
    "plot_export_path = 'io/output/exports/analysis_plots/'\n",
    "chunk_size = 10000\n",
    "train_timesteps = 200\n",
    "val_timesteps = 50\n",
    "test_timesteps = 50"
   ]
  },
  {
   "cell_type": "markdown",
   "id": "92cf08c6",
   "metadata": {},
   "source": [
    "### Core Functionality"
   ]
  },
  {
   "cell_type": "markdown",
   "id": "7975cb63",
   "metadata": {},
   "source": [
    "Save numpy arrays"
   ]
  },
  {
   "cell_type": "code",
   "execution_count": 3,
   "id": "be518118",
   "metadata": {},
   "outputs": [],
   "source": [
    "def save_object(arr,chunk_size,path):\n",
    "    num_chunks = arr.shape[0] // chunk_size + 1\n",
    "    shutil.rmtree(path)\n",
    "    os.makedirs(path)\n",
    "    for i in tqdm(range(num_chunks)):\n",
    "        chunk = arr[i*chunk_size:(i+1)*chunk_size, :]\n",
    "        filename = f\"{path}chunk_{i}.npy\"\n",
    "        np.save(filename, chunk)"
   ]
  },
  {
   "cell_type": "markdown",
   "id": "54746b75",
   "metadata": {},
   "source": [
    "Load numpy arrays"
   ]
  },
  {
   "cell_type": "code",
   "execution_count": 4,
   "id": "253b4f5e",
   "metadata": {},
   "outputs": [],
   "source": [
    "def load_object(path):\n",
    "    num_chunks = len([f for f in os.listdir(path) if f.startswith('chunk_') and f.endswith('.npy')])\n",
    "    # Load array from chunks\n",
    "    chunks = []\n",
    "    for i in range(num_chunks):\n",
    "        filename = f\"{path}chunk_{i}.npy\"\n",
    "        print()\n",
    "        chunk = np.load(filename,allow_pickle=True)\n",
    "        chunks.append(chunk)\n",
    "    arr_reconstructed = np.concatenate(chunks, axis=0)\n",
    "    return arr_reconstructed"
   ]
  },
  {
   "cell_type": "markdown",
   "id": "74a99d88",
   "metadata": {},
   "source": [
    "Load csv files"
   ]
  },
  {
   "cell_type": "code",
   "execution_count": 5,
   "id": "7dccf7ea",
   "metadata": {},
   "outputs": [],
   "source": [
    "def load_data(train_path,test_path,val_path):\n",
    "    trainset = pd.read_csv(train_path,index_col=0)\n",
    "    testset = pd.read_csv(test_path,index_col=0)\n",
    "    valset = pd.read_csv(val_path,index_col=0)\n",
    "    return trainset,testset,valset"
   ]
  },
  {
   "cell_type": "markdown",
   "id": "fc7b9b9b",
   "metadata": {},
   "source": [
    "### Graph info construction"
   ]
  },
  {
   "cell_type": "markdown",
   "id": "03e4ad88",
   "metadata": {},
   "source": [
    "Node features"
   ]
  },
  {
   "cell_type": "code",
   "execution_count": 6,
   "id": "e0366c8f",
   "metadata": {},
   "outputs": [],
   "source": [
    "def node_features_construction(df,timesteps):\n",
    "    feature_names = df.columns\n",
    "    # Convert the 'Date' column to a pandas datetime object\n",
    "    df['Date'] = pd.to_datetime(df['Date'])\n",
    "    \n",
    "    # Get a list of all unique asset IDs in the dataset\n",
    "    asset_ids = df['Asset_ID'].unique()\n",
    "    Dates = df['Date'].unique()\n",
    "\n",
    "    # Get a list of all features in the dataset\n",
    "    features = list(df.columns)\n",
    "    features.remove('Date')\n",
    "    features.remove('Asset_ID')\n",
    "    results=[]\n",
    "    results=[0 for i in range(len(Dates))]\n",
    "\n",
    "    for i in tqdm( range (0,len(Dates))):\n",
    "        results[i] = df[df[\"Date\"]==Dates[i]]\n",
    "        results[i] = results[i].drop(['Date'], axis=1)\n",
    "        results[i] = results[i].drop(['Asset_ID'], axis=1)\n",
    "    \n",
    "    \n",
    "    results = results[:timesteps]\n",
    "    np_result = np.array(results)\n",
    "    np_result = np.reshape(np_result, (len(results),len(asset_ids),len(features),1))\n",
    "    return np_result"
   ]
  },
  {
   "cell_type": "markdown",
   "id": "661de33e",
   "metadata": {},
   "source": [
    "Nodel Labels"
   ]
  },
  {
   "cell_type": "code",
   "execution_count": 7,
   "id": "9da95b7f",
   "metadata": {},
   "outputs": [],
   "source": [
    "def node_labels_construction(df,timsteps):\n",
    "    asset_ids = df['Asset_ID'].unique()\n",
    "    timestamps = df['Date'].unique()\n",
    "    timestamps = timestamps[:timsteps]\n",
    "    df = df.loc[df['Date'].isin(timestamps)].reset_index(drop=True)\n",
    "    result = df.pivot(index='Date', columns='Asset_ID', values='Close')\n",
    "    result = np.array(result)\n",
    "    result = np.reshape(result, (len(result), len(asset_ids),1))\n",
    "    return result"
   ]
  },
  {
   "cell_type": "markdown",
   "id": "6d0f2b6e",
   "metadata": {},
   "source": [
    "Edge caclulation using Grager Casuality test"
   ]
  },
  {
   "cell_type": "code",
   "execution_count": 8,
   "id": "15c1b2d4",
   "metadata": {
    "scrolled": false
   },
   "outputs": [],
   "source": [
    "def adjency_matrixes_granger_test(df,timsteps):\n",
    "    df_pivot = df.pivot_table(index='Date', columns='Asset_ID', values='Close')\n",
    "    df_pivot = df_pivot.head(timsteps)\n",
    "    date_list = df_pivot.index\n",
    "    asset_ids = df_pivot.columns\n",
    "    # Create an empty list to store the adjacency matrices\n",
    "    adj_matrices = []\n",
    "\n",
    "    # Loop through each timestamp\n",
    "    for i in tqdm (range (len(df_pivot))):\n",
    "\n",
    "        # Select the data up to the current timestamp\n",
    "        data = df_pivot.iloc[:i+1,:]\n",
    "        \n",
    "        # Create an empty adjacency matrix for the current timestamp\n",
    "        adj_matrix = np.zeros((len(df_pivot.columns), len(df_pivot.columns)))\n",
    "\n",
    "        # Loop through each combination of asset IDs\n",
    "        for j in range(len(df_pivot.columns)):\n",
    "            for k in range(len(df_pivot.columns)):\n",
    "\n",
    "                # Skip if j and k are the same asset ID\n",
    "                if j == k:\n",
    "                    continue\n",
    "\n",
    "                # Select the data for the current pair of asset IDs\n",
    "                data_jk = data.iloc[:,[j,k]].dropna()\n",
    "\n",
    "                # Skip if there is no data for the current pair of asset IDs\n",
    "                if len(data_jk) == 0:\n",
    "                    continue\n",
    "\n",
    "                # Calculate Granger causality in both directions between j and k\n",
    "                try:\n",
    "                    result1 = grangercausalitytests(data_jk, maxlag=2, verbose=False)\n",
    "                    max_F_statistic1 = max(result1[lag][0]['params_ftest'][0] for lag in result1.keys())\n",
    "                    result2 = grangercausalitytests(data_jk.iloc[:,::-1], maxlag=2, verbose=False)\n",
    "                    max_F_statistic2 = max(result2[lag][0]['params_ftest'][0] for lag in result2.keys())\n",
    "                except:\n",
    "                    max_F_statistic1 = None\n",
    "                    max_F_statistic2 = None\n",
    "\n",
    "                # Add the Granger causality values to the adjacency matrix\n",
    "                if max_F_statistic1 is not None and max_F_statistic2 is not None:\n",
    "                    adj_matrix[j,k] = max_F_statistic1\n",
    "                    adj_matrix[k,j] = max_F_statistic2\n",
    "\n",
    "        # Add the current adjacency matrix to the list of adjacency matrices\n",
    "        adj_matrices.append(adj_matrix)\n",
    "    return adj_matrices,asset_ids,date_list"
   ]
  },
  {
   "cell_type": "markdown",
   "id": "9bef5e56",
   "metadata": {},
   "source": [
    "Nomalize edge weights to range 0.1-0.9"
   ]
  },
  {
   "cell_type": "code",
   "execution_count": 9,
   "id": "6f02a19f",
   "metadata": {},
   "outputs": [],
   "source": [
    "def normalize_adj(adjency_matrixes):\n",
    "    norm_adjency_matrixes = []\n",
    "    for adj in tqdm(adjency_matrixes):\n",
    "        # Create a copy of the input matrix\n",
    "        adj_norm = np.copy(adj)\n",
    "        # Get the diagonal indices\n",
    "        diag_indices = np.diag_indices(adj.shape[0])\n",
    "        # Set the diagonal elements to 1\n",
    "        adj_norm[diag_indices] = 1\n",
    "        # Normalize the non-diagonal elements on the range 0.1-0.9\n",
    "        non_diag_mask = np.ones(adj.shape, dtype=bool)\n",
    "        non_diag_mask[diag_indices] = False\n",
    "        adj_norm[non_diag_mask] = 0.1 + 0.8 * (adj_norm[non_diag_mask] - np.min(adj_norm[non_diag_mask])) / (np.max(adj_norm[non_diag_mask]) - np.min(adj_norm[non_diag_mask]))\n",
    "        norm_adjency_matrixes.append(adj_norm)\n",
    "    norm_adjency_matrixes = np.array(norm_adjency_matrixes)\n",
    "    return norm_adjency_matrixes"
   ]
  },
  {
   "cell_type": "markdown",
   "id": "66135164",
   "metadata": {},
   "source": [
    "Convert edges and edge-weights to the final format"
   ]
  },
  {
   "cell_type": "code",
   "execution_count": 10,
   "id": "fb69b3b1",
   "metadata": {},
   "outputs": [],
   "source": [
    "def adj_to_edge_lists(norm_adjency_matrixes):\n",
    "    undirected_edges_list = []\n",
    "    undirected_weights_list = [] \n",
    "    \n",
    "    for adj_matrix in tqdm(norm_adjency_matrixes):\n",
    "        edges = np.transpose(np.where(adj_matrix != 0))\n",
    "        edge_weights = adj_matrix[edges[:, 0], edges[:, 1]]\n",
    "        edges = [list(edges[:, 0] + 1), list(edges[:, 1] + 1)]\n",
    "        edg_weights = list(edge_weights)\n",
    "        undirected_edges_list.append(edges)\n",
    "        undirected_weights_list.append(edge_weights)\n",
    "    \n",
    "    undirected_edges_list = np.array(undirected_edges_list)\n",
    "    undirected_weights_list = np.array(undirected_weights_list)\n",
    "    return undirected_edges_list,undirected_weights_list"
   ]
  },
  {
   "cell_type": "markdown",
   "id": "11c792fd",
   "metadata": {},
   "source": [
    "Plot adjency matrixes of the edges"
   ]
  },
  {
   "cell_type": "code",
   "execution_count": 11,
   "id": "adead2ec",
   "metadata": {},
   "outputs": [],
   "source": [
    "def plot_adjency_matrixes(adj_matrix1,adj_matrix2,labels,date1,date2,plot_export_path):\n",
    "    # Create two random adjacency matrices\n",
    "    labels = asset_ids\n",
    "    # Set up the figure and two subplots\n",
    "    fig, (ax1, ax2) = plt.subplots(1, 2, figsize=(16, 8))\n",
    "    # Plot the first adjacency matrix\n",
    "    im1 = ax1.imshow(adj_matrix1, cmap='coolwarm', interpolation='None')\n",
    "    ax1.set_xticks(np.arange(len(labels)))\n",
    "    ax1.set_yticks(np.arange(len(labels)))\n",
    "    ax1.set_xticklabels(labels,rotation=90)\n",
    "    ax1.set_yticklabels(labels)\n",
    "    ax1.tick_params(axis='both', labelsize=12)\n",
    "    ax1.set_title(timestamp1)\n",
    "    # Plot the second adjacency matrix\n",
    "    im2 = ax2.imshow(adj_matrix2, cmap='coolwarm', interpolation='None')\n",
    "    ax2.set_xticks(np.arange(len(labels)))\n",
    "    ax2.set_yticks(np.arange(len(labels)))\n",
    "    ax2.set_xticklabels(labels,rotation=90)\n",
    "    ax2.set_yticklabels(labels)\n",
    "    ax2.tick_params(axis='both', labelsize=12)\n",
    "    ax2.set_title(timestamp2)\n",
    "    # Add the matrix values as text to the plots\n",
    "    for ax, adj_matrix in zip([ax1, ax2], [adj_matrix1, adj_matrix2]):\n",
    "        for i in range(adj_matrix.shape[0]):\n",
    "            for j in range(adj_matrix.shape[1]):\n",
    "                text = ax.text(j, i, round(adj_matrix[i, j],1),\n",
    "                               ha=\"center\", va=\"center\", color=\"w\", fontsize=12)\n",
    "    # Set the title of the figure\n",
    "    fig.suptitle(\"Dynamic Graph Edge Info\", fontsize=18)\n",
    "    # Adjust the spacing between subplots\n",
    "    fig.tight_layout(pad=2)\n",
    "    # Display the plot\n",
    "    plt.savefig(plot_export_path + 'Adjency_Matrixes.pdf')\n",
    "    plt.show()"
   ]
  },
  {
   "cell_type": "markdown",
   "id": "3bbda4c3",
   "metadata": {},
   "source": [
    "### Create and saved node features and nodel labels"
   ]
  },
  {
   "cell_type": "code",
   "execution_count": 12,
   "id": "9231cd85",
   "metadata": {},
   "outputs": [
    {
     "name": "stdout",
     "output_type": "stream",
     "text": [
      "Construction: train node features\n"
     ]
    },
    {
     "name": "stderr",
     "output_type": "stream",
     "text": [
      "100%|███████████████████████████████████████| 887/887 [00:00<00:00, 2816.48it/s]\n",
      "100%|███████████████████████████████████████████| 1/1 [00:00<00:00, 1236.16it/s]\n"
     ]
    },
    {
     "name": "stdout",
     "output_type": "stream",
     "text": [
      "Construction: train node labels\n"
     ]
    },
    {
     "name": "stderr",
     "output_type": "stream",
     "text": [
      "100%|███████████████████████████████████████████| 1/1 [00:00<00:00, 1744.72it/s]\n"
     ]
    },
    {
     "name": "stdout",
     "output_type": "stream",
     "text": [
      "Construction: val node features\n"
     ]
    },
    {
     "name": "stderr",
     "output_type": "stream",
     "text": [
      "100%|███████████████████████████████████████| 887/887 [00:00<00:00, 2900.46it/s]\n",
      "100%|███████████████████████████████████████████| 1/1 [00:00<00:00, 1666.39it/s]\n"
     ]
    },
    {
     "name": "stdout",
     "output_type": "stream",
     "text": [
      "Construction: val node labels\n"
     ]
    },
    {
     "name": "stderr",
     "output_type": "stream",
     "text": [
      "100%|███████████████████████████████████████████| 1/1 [00:00<00:00, 2074.33it/s]\n"
     ]
    },
    {
     "name": "stdout",
     "output_type": "stream",
     "text": [
      "Construction: test node features\n"
     ]
    },
    {
     "name": "stderr",
     "output_type": "stream",
     "text": [
      "100%|███████████████████████████████████████| 887/887 [00:00<00:00, 2968.37it/s]\n",
      "100%|███████████████████████████████████████████| 1/1 [00:00<00:00, 1623.81it/s]\n"
     ]
    },
    {
     "name": "stdout",
     "output_type": "stream",
     "text": [
      "Construction: test node labels\n"
     ]
    },
    {
     "name": "stderr",
     "output_type": "stream",
     "text": [
      "100%|███████████████████████████████████████████| 1/1 [00:00<00:00, 1489.45it/s]\n"
     ]
    }
   ],
   "source": [
    "trainset,testset,valset = load_data(train_path,test_path,val_path)\n",
    "\n",
    "# Train-set\n",
    "print('Construction: train node features')\n",
    "train_node_features = node_features_construction(trainset,train_timesteps)\n",
    "save_object(train_node_features,chunk_size,train_node_features_path)\n",
    "\n",
    "print('Construction: train node labels')\n",
    "train_node_labels = node_labels_construction(trainset,train_timesteps)\n",
    "save_object(train_node_labels,chunk_size,train_node_labels_path)\n",
    "\n",
    "# Validation-set\n",
    "print('Construction: val node features')\n",
    "val_node_features = node_features_construction(valset,val_timesteps)\n",
    "save_object(val_node_features,chunk_size,val_node_features_path)\n",
    "\n",
    "print('Construction: val node labels')\n",
    "val_node_labels = node_labels_construction(valset,val_timesteps)\n",
    "save_object(val_node_labels,chunk_size,val_node_labels_path)\n",
    "\n",
    "# Test-set\n",
    "print('Construction: test node features')\n",
    "test_node_features = node_features_construction(testset,test_timesteps)\n",
    "save_object(test_node_features,chunk_size,test_node_features_path)\n",
    "\n",
    "print('Construction: test node labels')\n",
    "test_node_labels = node_labels_construction(testset,test_timesteps)\n",
    "save_object(test_node_labels,chunk_size,test_node_labels_path)"
   ]
  },
  {
   "cell_type": "markdown",
   "id": "8e4e1169",
   "metadata": {},
   "source": [
    "### Create and saved edges and edge-weights "
   ]
  },
  {
   "cell_type": "code",
   "execution_count": 13,
   "id": "6dfdf670",
   "metadata": {},
   "outputs": [
    {
     "name": "stdout",
     "output_type": "stream",
     "text": [
      "Construction: train edge info\n"
     ]
    },
    {
     "name": "stderr",
     "output_type": "stream",
     "text": [
      "100%|█████████████████████████████████████████| 200/200 [01:28<00:00,  2.26it/s]\n",
      "  0%|                                                   | 0/200 [00:00<?, ?it/s]/var/folders/7v/c_fky0td2dldmltq3618f3jh0000gn/T/ipykernel_21225/2537035348.py:13: RuntimeWarning: invalid value encountered in divide\n",
      "  adj_norm[non_diag_mask] = 0.1 + 0.8 * (adj_norm[non_diag_mask] - np.min(adj_norm[non_diag_mask])) / (np.max(adj_norm[non_diag_mask]) - np.min(adj_norm[non_diag_mask]))\n",
      "100%|██████████████████████████████████████| 200/200 [00:00<00:00, 53261.00it/s]\n",
      "100%|██████████████████████████████████████| 200/200 [00:00<00:00, 37342.45it/s]\n",
      "100%|████████████████████████████████████████████| 1/1 [00:00<00:00, 586.45it/s]\n",
      "100%|███████████████████████████████████████████| 1/1 [00:00<00:00, 1109.02it/s]\n"
     ]
    },
    {
     "name": "stdout",
     "output_type": "stream",
     "text": [
      "Construction: val edge info\n"
     ]
    },
    {
     "name": "stderr",
     "output_type": "stream",
     "text": [
      "100%|███████████████████████████████████████████| 50/50 [00:19<00:00,  2.57it/s]\n",
      "  0%|                                                    | 0/50 [00:00<?, ?it/s]/var/folders/7v/c_fky0td2dldmltq3618f3jh0000gn/T/ipykernel_21225/2537035348.py:13: RuntimeWarning: invalid value encountered in divide\n",
      "  adj_norm[non_diag_mask] = 0.1 + 0.8 * (adj_norm[non_diag_mask] - np.min(adj_norm[non_diag_mask])) / (np.max(adj_norm[non_diag_mask]) - np.min(adj_norm[non_diag_mask]))\n",
      "100%|████████████████████████████████████████| 50/50 [00:00<00:00, 47222.52it/s]\n",
      "100%|████████████████████████████████████████| 50/50 [00:00<00:00, 31765.40it/s]\n",
      "100%|███████████████████████████████████████████| 1/1 [00:00<00:00, 1490.51it/s]\n",
      "100%|███████████████████████████████████████████| 1/1 [00:00<00:00, 2236.96it/s]\n"
     ]
    },
    {
     "name": "stdout",
     "output_type": "stream",
     "text": [
      "Construction: test edge info\n"
     ]
    },
    {
     "name": "stderr",
     "output_type": "stream",
     "text": [
      "100%|███████████████████████████████████████████| 50/50 [00:19<00:00,  2.57it/s]\n",
      "  0%|                                                    | 0/50 [00:00<?, ?it/s]/var/folders/7v/c_fky0td2dldmltq3618f3jh0000gn/T/ipykernel_21225/2537035348.py:13: RuntimeWarning: invalid value encountered in divide\n",
      "  adj_norm[non_diag_mask] = 0.1 + 0.8 * (adj_norm[non_diag_mask] - np.min(adj_norm[non_diag_mask])) / (np.max(adj_norm[non_diag_mask]) - np.min(adj_norm[non_diag_mask]))\n",
      "100%|████████████████████████████████████████| 50/50 [00:00<00:00, 48827.75it/s]\n",
      "100%|████████████████████████████████████████| 50/50 [00:00<00:00, 38227.34it/s]\n",
      "100%|███████████████████████████████████████████| 1/1 [00:00<00:00, 1565.04it/s]\n",
      "100%|███████████████████████████████████████████| 1/1 [00:00<00:00, 2666.44it/s]\n"
     ]
    }
   ],
   "source": [
    "trainset,testset,valset = load_data(train_path,test_path,val_path)\n",
    "\n",
    "# Train-set\n",
    "print('Construction: train edge info')\n",
    "adjency_matrixes,asset_ids,dates = adjency_matrixes_granger_test(trainset,train_timesteps)\n",
    "norm_adjency_matrixes = normalize_adj(adjency_matrixes)\n",
    "train_undirected_edges,train_undirected_weights = adj_to_edge_lists(norm_adjency_matrixes)\n",
    "save_object(train_undirected_edges,chunk_size,train_edges_path)\n",
    "save_object(train_undirected_weights,chunk_size,train_edge_weights_path)\n",
    "\n",
    "# Validation-set\n",
    "print('Construction: val edge info')\n",
    "adjency_matrixes,asset_ids,dates = adjency_matrixes_granger_test(valset,val_timesteps)\n",
    "norm_adjency_matrixes = normalize_adj(adjency_matrixes)\n",
    "val_undirected_edges_train,val_undirected_weights_train = adj_to_edge_lists(norm_adjency_matrixes)\n",
    "save_object(val_undirected_edges_train,chunk_size,val_edges_path)\n",
    "save_object(val_undirected_weights_train,chunk_size,val_edge_weights_path)\n",
    "\n",
    "# Test-set\n",
    "print('Construction: test edge info')\n",
    "adjency_matrixes,asset_ids,dates = adjency_matrixes_granger_test(testset,test_timesteps)\n",
    "norm_adjency_matrixes = normalize_adj(adjency_matrixes)\n",
    "test_undirected_edges_train,test_undirected_weights_train = adj_to_edge_lists(norm_adjency_matrixes)\n",
    "save_object(test_undirected_edges_train,chunk_size,test_edges_path)\n",
    "save_object(test_undirected_weights_train,chunk_size,test_edge_weights_path)"
   ]
  },
  {
   "cell_type": "code",
   "execution_count": 14,
   "id": "6a7cf8da",
   "metadata": {},
   "outputs": [],
   "source": [
    "# plot_adjency_matrixes(norm_adjency_matrixes[5],norm_adjency_matrixes[9],\n",
    "#                       asset_ids,dates[5],dates[9],plot_export_path)"
   ]
  }
 ],
 "metadata": {
  "kernelspec": {
   "display_name": "full_ml",
   "language": "python",
   "name": "full_ml"
  },
  "language_info": {
   "codemirror_mode": {
    "name": "ipython",
    "version": 3
   },
   "file_extension": ".py",
   "mimetype": "text/x-python",
   "name": "python",
   "nbconvert_exporter": "python",
   "pygments_lexer": "ipython3",
   "version": "3.8.13"
  }
 },
 "nbformat": 4,
 "nbformat_minor": 5
}
