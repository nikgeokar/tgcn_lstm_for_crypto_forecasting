{
 "cells": [
  {
   "cell_type": "markdown",
   "id": "4baaa2a2",
   "metadata": {},
   "source": [
    "<h1>\n",
    "<center>Graph Construction </center>\n",
    "</h1>"
   ]
  },
  {
   "cell_type": "markdown",
   "id": "a22ec3ad",
   "metadata": {},
   "source": [
    "### Generals "
   ]
  },
  {
   "cell_type": "markdown",
   "id": "f4c1bb1a",
   "metadata": {},
   "source": [
    "Dependencies"
   ]
  },
  {
   "cell_type": "code",
   "execution_count": 1,
   "id": "b624e99e",
   "metadata": {},
   "outputs": [
    {
     "name": "stderr",
     "output_type": "stream",
     "text": [
      "/opt/homebrew/Caskroom/miniforge/base/envs/full_ml/lib/python3.8/site-packages/tqdm/auto.py:22: TqdmWarning: IProgress not found. Please update jupyter and ipywidgets. See https://ipywidgets.readthedocs.io/en/stable/user_install.html\n",
      "  from .autonotebook import tqdm as notebook_tqdm\n"
     ]
    }
   ],
   "source": [
    "#Data\n",
    "import os\n",
    "import pandas as pd\n",
    "import numpy as np\n",
    "from tqdm import tqdm\n",
    "import pickle\n",
    "import shutil\n",
    "\n",
    "#Graph Counstruction\n",
    "import torch\n",
    "from torch_geometric_temporal.signal import StaticGraphTemporalSignal\n",
    "from statsmodels.tsa.stattools import grangercausalitytests\n",
    "import matplotlib.pyplot as plt\n",
    "\n",
    "\n",
    "import torch\n",
    "import torch.nn.functional as F\n",
    "from torch_geometric_temporal.nn.recurrent import A3TGCN2\n",
    "from torch.nn import Linear\n",
    "from torch.nn import ReLU\n",
    "import torch.nn as nn\n",
    "from torch.nn.init import kaiming_uniform_"
   ]
  },
  {
   "cell_type": "markdown",
   "id": "0481bfd5",
   "metadata": {},
   "source": [
    "Envariables"
   ]
  },
  {
   "cell_type": "code",
   "execution_count": 2,
   "id": "60607b14",
   "metadata": {},
   "outputs": [],
   "source": [
    "train_path = 'io/input/data_raw/train.csv'\n",
    "test_path = 'io/input/data_raw/example_test.csv'\n",
    "assets_details_path ='io/input/data_raw/asset_details.csv'\n",
    "data_intermediate_path ='io/input/data_intermediate/'\n",
    "train_obj_path = data_intermediate_path + 'train_object.pkl'\n",
    "train_node_features_path = data_intermediate_path + 'node_features/train/'\n",
    "train_node_labels_path = data_intermediate_path + 'node_labels/train/'\n",
    "test_node_labels_path = data_intermediate_path + 'node_labels/test/'\n",
    "test_node_features_path = data_intermediate_path + 'node_features/test/'\n",
    "plot_export_path = 'io/output/exports/analysis_plots/'\n",
    "chunk_size = 100000\n",
    "timesteps = 1200"
   ]
  },
  {
   "cell_type": "markdown",
   "id": "92cf08c6",
   "metadata": {},
   "source": [
    "### Core Functionality"
   ]
  },
  {
   "cell_type": "code",
   "execution_count": 132,
   "id": "be518118",
   "metadata": {},
   "outputs": [],
   "source": [
    "def save_object(arr,chunk_size,path):\n",
    "    num_chunks = arr.shape[0] // chunk_size + 1\n",
    "    shutil.rmtree(path)\n",
    "    os.makedirs(path)\n",
    "    for i in tqdm(range(num_chunks)):\n",
    "        chunk = arr[i*chunk_size:(i+1)*chunk_size, :]\n",
    "        filename = f\"{path}chunk_{i}.npy\"\n",
    "        np.save(filename, chunk)\n",
    "    return True"
   ]
  },
  {
   "cell_type": "code",
   "execution_count": 133,
   "id": "253b4f5e",
   "metadata": {},
   "outputs": [],
   "source": [
    "def load_object(path):\n",
    "    num_chunks = len([f for f in os.listdir(path) if f.startswith('chunk_') and f.endswith('.npy')])\n",
    "    # Load array from chunks\n",
    "    chunks = []\n",
    "    for i in range(num_chunks):\n",
    "        filename = f\"{path}chunk_{i}.npy\"\n",
    "        print()\n",
    "        chunk = np.load(filename,allow_pickle=True)\n",
    "        chunks.append(chunk)\n",
    "    arr_reconstructed = np.concatenate(chunks, axis=0)\n",
    "    return arr_reconstructed"
   ]
  },
  {
   "cell_type": "code",
   "execution_count": 134,
   "id": "7dccf7ea",
   "metadata": {},
   "outputs": [],
   "source": [
    "def load_data(train_path,test_path,assets_details_path):\n",
    "    trainset = pd.read_csv(train_path,index_col=0)\n",
    "    testset = pd.read_csv(test_path,index_col=0)\n",
    "    assets_details = pd.read_csv(assets_details_path,index_col=0)\n",
    "    return trainset,testset,assets_details"
   ]
  },
  {
   "cell_type": "code",
   "execution_count": 135,
   "id": "bd2f94a7",
   "metadata": {},
   "outputs": [],
   "source": [
    "def intial_preprocessing(df,assets_details,mode):\n",
    "    df.reset_index(inplace=True)\n",
    "    assets_details.reset_index(inplace=True)\n",
    "    \n",
    "    df = pd.merge(df, assets_details[['Asset_ID', 'Weight', 'Asset_Name']],\n",
    "                         on='Asset_ID', how='inner', left_index=False)\n",
    "    \n",
    "    df = df.sort_values('timestamp', ascending=False)\n",
    "    df = reduce_mem_usage(df)\n",
    "    df['timestamp'] = pd.to_datetime(df['timestamp'], unit='s')\n",
    "    df = df.drop(['Asset_ID'], axis=1)\n",
    "    if mode == 'train':\n",
    "        df['Target'].fillna(df['Target'].median(), inplace=True) #Must Change Approach\n",
    "    elif mode == 'test':\n",
    "        df = df.drop(['group_num'], axis=1)\n",
    "        df = df.drop(['row_id'], axis=1)\n",
    "    df = df[df['timestamp'].dt.minute == 0]\n",
    "    return df"
   ]
  },
  {
   "cell_type": "code",
   "execution_count": 136,
   "id": "f44bb846",
   "metadata": {},
   "outputs": [],
   "source": [
    "def intial_preprocessing_pivot(df,assets_details):\n",
    "    df.reset_index(inplace=True)\n",
    "    assets_details.reset_index(inplace=True)\n",
    "    df = pd.merge(df, assets_details[['Asset_ID', 'Weight', 'Asset_Name']],\n",
    "                         on='Asset_ID', how='inner', left_index=False)\n",
    "    df['timestamp'] = pd.to_datetime(df['timestamp'], unit='s')\n",
    "    df = df.drop(['Asset_ID'], axis=1)\n",
    "    df = df[df['timestamp'].dt.time == pd.to_datetime('08:00').time()]\n",
    "    pivot = df.pivot_table(index='timestamp', columns='Asset_Name', values='Close')\n",
    "    pivot = pivot.dropna()\n",
    "    return pivot"
   ]
  },
  {
   "cell_type": "code",
   "execution_count": 137,
   "id": "71ff2ed1",
   "metadata": {},
   "outputs": [],
   "source": [
    "def reduce_mem_usage(df):\n",
    "    \"\"\" iterate through all the columns of a dataframe and modify the data type\n",
    "        to reduce memory usage.\n",
    "    \"\"\"\n",
    "    start_mem = df.memory_usage().sum() / 1024**2\n",
    "    print(\"Memory usage of dataframe is {:.2f} MB\".format(start_mem))\n",
    "    \n",
    "    for col in df.columns:\n",
    "        col_type = df[col].dtype\n",
    "        \n",
    "        if col_type != object:\n",
    "            c_min = df[col].min()\n",
    "            c_max = df[col].max()\n",
    "            if str(col_type)[:3] == \"int\":\n",
    "                if c_min > np.iinfo(np.int8).min and c_max < np.iinfo(np.int8).max:\n",
    "                    df[col] = df[col].astype(np.int8)\n",
    "                elif c_min > np.iinfo(np.int16).min and c_max < np.iinfo(np.int16).max:\n",
    "                    df[col] = df[col].astype(np.int16)\n",
    "                elif c_min > np.iinfo(np.int32).min and c_max < np.iinfo(np.int32).max:\n",
    "                    df[col] = df[col].astype(np.int32)\n",
    "                elif c_min > np.iinfo(np.int64).min and c_max < np.iinfo(np.int64).max:\n",
    "                    df[col] = df[col].astype(np.int64)  \n",
    "            else:\n",
    "                if c_min > np.finfo(np.float16).min and c_max < np.finfo(np.float16).max:\n",
    "                    df[col] = df[col].astype(np.float16)\n",
    "                elif c_min > np.finfo(np.float32).min and c_max < np.finfo(np.float32).max:\n",
    "                    df[col] = df[col].astype(np.float32)\n",
    "                else:\n",
    "                    df[col] = df[col].astype(np.float64)\n",
    "                    \n",
    "    end_mem = df.memory_usage().sum() / 1024**2\n",
    "    print(\"Memory usage after optimization is: {:.2f} MB\".format(end_mem))\n",
    "    print(\"Decreased by {:.1f}%\".format(100 * (start_mem - end_mem) / start_mem))\n",
    "    return df"
   ]
  },
  {
   "cell_type": "markdown",
   "id": "fc7b9b9b",
   "metadata": {},
   "source": [
    "### Shape Convertion"
   ]
  },
  {
   "cell_type": "code",
   "execution_count": 138,
   "id": "e0366c8f",
   "metadata": {},
   "outputs": [],
   "source": [
    "def node_features_construction(df,timesteps):\n",
    "    feature_names = df.columns\n",
    "    # Convert the 'timestamp' column to a pandas datetime object\n",
    "    df['timestamp'] = pd.to_datetime(df['timestamp'])\n",
    "    \n",
    "    # Get a list of all unique asset IDs in the dataset\n",
    "    asset_ids = df['Asset_Name'].unique()\n",
    "    timestamps = df['timestamp'].unique()\n",
    "\n",
    "    # Get a list of all features in the dataset\n",
    "    features = list(df.columns)\n",
    "    features.remove('timestamp')\n",
    "    features.remove('Asset_Name')\n",
    "    results=[]\n",
    "    results=[0 for i in range(len(timestamps))]\n",
    "\n",
    "    for i in tqdm( range (0,len(timestamps))):\n",
    "        results[i] = df[df[\"timestamp\"]==timestamps[i]]\n",
    "        results[i] = results[i].drop(['timestamp'], axis=1)\n",
    "        results[i] = results[i].drop(['Asset_Name'], axis=1)\n",
    "    \n",
    "    \n",
    "    results = results[:timesteps]\n",
    "    np_result = np.array(results)\n",
    "    print(np_result.shape)\n",
    "    np_result = np.reshape(np_result, (len(results),len(asset_ids),len(features),1))\n",
    "    \n",
    "    print('Array Tranformation Finished!')\n",
    "    print(np_result.shape)\n",
    "    return np_result"
   ]
  },
  {
   "cell_type": "code",
   "execution_count": 139,
   "id": "9da95b7f",
   "metadata": {},
   "outputs": [],
   "source": [
    "def node_labels_construction(df,timsteps):\n",
    "    asset_ids = df['Asset_Name'].unique()\n",
    "    timestamps = df['timestamp'].unique()\n",
    "    timestamps = timestamps[:timsteps]\n",
    "    df = df.loc[df['timestamp'].isin(timestamps)].reset_index(drop=True)\n",
    "    result = df.pivot(index='timestamp', columns='Asset_Name', values='Target')\n",
    "    result = np.array(result)\n",
    "    result = np.reshape(result, (len(result), len(asset_ids),1))\n",
    "    return result"
   ]
  },
  {
   "cell_type": "code",
   "execution_count": 140,
   "id": "15c1b2d4",
   "metadata": {
    "scrolled": false
   },
   "outputs": [],
   "source": [
    "def adjency_matrixes_granger_test(df_pivot):\n",
    "    df_pivot = df_pivot.tail(100)\n",
    "    # Create an empty list to store the adjacency matrices\n",
    "    adj_matrices = []\n",
    "\n",
    "    # Loop through each timestamp\n",
    "    for i in tqdm (range (len(df_pivot))):\n",
    "\n",
    "        # Select the data up to the current timestamp\n",
    "        data = df_pivot.iloc[:i+1,:]\n",
    "        \n",
    "        # Create an empty adjacency matrix for the current timestamp\n",
    "        adj_matrix = np.zeros((len(df_pivot.columns), len(df_pivot.columns)))\n",
    "\n",
    "        # Loop through each combination of asset IDs\n",
    "        for j in range(len(df_pivot.columns)):\n",
    "            for k in range(len(df_pivot.columns)):\n",
    "\n",
    "                # Skip if j and k are the same asset ID\n",
    "                if j == k:\n",
    "                    continue\n",
    "\n",
    "                # Select the data for the current pair of asset IDs\n",
    "                data_jk = data.iloc[:,[j,k]].dropna()\n",
    "\n",
    "                # Skip if there is no data for the current pair of asset IDs\n",
    "                if len(data_jk) == 0:\n",
    "                    continue\n",
    "\n",
    "                # Calculate Granger causality in both directions between j and k\n",
    "                try:\n",
    "                    result1 = grangercausalitytests(data_jk, maxlag=10, verbose=False)\n",
    "                    max_F_statistic1 = max(result1[lag][0]['params_ftest'][0] for lag in result1.keys())\n",
    "                    result2 = grangercausalitytests(data_jk.iloc[:,::-1], maxlag=10, verbose=False)\n",
    "                    max_F_statistic2 = max(result2[lag][0]['params_ftest'][0] for lag in result2.keys())\n",
    "                except:\n",
    "                    max_F_statistic1 = None\n",
    "                    max_F_statistic2 = None\n",
    "\n",
    "                # Add the Granger causality values to the adjacency matrix\n",
    "                if max_F_statistic1 is not None and max_F_statistic2 is not None:\n",
    "                    adj_matrix[j,k] = max_F_statistic1\n",
    "                    adj_matrix[k,j] = max_F_statistic2\n",
    "\n",
    "        # Add the current adjacency matrix to the list of adjacency matrices\n",
    "        adj_matrices.append(adj_matrix)\n",
    "    return adj_matrices,df_pivot.columns"
   ]
  },
  {
   "cell_type": "code",
   "execution_count": 225,
   "id": "6f02a19f",
   "metadata": {},
   "outputs": [],
   "source": [
    "def normalize_adj(adjency_matrixes):\n",
    "    norm_adjency_matrixes = []\n",
    "    for adj in tqdm(adjency_matrixes):\n",
    "        # Create a copy of the input matrix\n",
    "        adj_norm = np.copy(adj)\n",
    "        # Get the diagonal indices\n",
    "        diag_indices = np.diag_indices(adj.shape[0])\n",
    "        # Set the diagonal elements to 1\n",
    "        adj_norm[diag_indices] = 1\n",
    "        # Normalize the non-diagonal elements on the range 0.1-0.9\n",
    "        non_diag_mask = np.ones(adj.shape, dtype=bool)\n",
    "        non_diag_mask[diag_indices] = False\n",
    "        adj_norm[non_diag_mask] = 0.1 + 0.8 * (adj_norm[non_diag_mask] - np.min(adj_norm[non_diag_mask])) / (np.max(adj_norm[non_diag_mask]) - np.min(adj_norm[non_diag_mask]))\n",
    "        norm_adjency_matrixes.append(adj_norm)\n",
    "    norm_adjency_matrixes = np.array(norm_adjency_matrixes)\n",
    "    return norm_adjency_matrixes"
   ]
  },
  {
   "cell_type": "code",
   "execution_count": 192,
   "id": "adead2ec",
   "metadata": {},
   "outputs": [],
   "source": [
    "def plot_adjency_matrixes(adj_matrix1,adj_matrix2,labels,timestamp1,timestamp2,plot_export_path):\n",
    "    # Create two random adjacency matrices\n",
    "    labels = asset_ids\n",
    "    # Set up the figure and two subplots\n",
    "    fig, (ax1, ax2) = plt.subplots(1, 2, figsize=(16, 8))\n",
    "    # Plot the first adjacency matrix\n",
    "    im1 = ax1.imshow(adj_matrix1, cmap='coolwarm', interpolation='None')\n",
    "    ax1.set_xticks(np.arange(len(labels)))\n",
    "    ax1.set_yticks(np.arange(len(labels)))\n",
    "    ax1.set_xticklabels(labels,rotation=90)\n",
    "    ax1.set_yticklabels(labels)\n",
    "    ax1.tick_params(axis='both', labelsize=12)\n",
    "    ax1.set_title(timestamp1)\n",
    "    # Plot the second adjacency matrix\n",
    "    im2 = ax2.imshow(adj_matrix2, cmap='coolwarm', interpolation='None')\n",
    "    ax2.set_xticks(np.arange(len(labels)))\n",
    "    ax2.set_yticks(np.arange(len(labels)))\n",
    "    ax2.set_xticklabels(labels,rotation=90)\n",
    "    ax2.set_yticklabels(labels)\n",
    "    ax2.tick_params(axis='both', labelsize=12)\n",
    "    ax2.set_title(timestamp2)\n",
    "    # Add the matrix values as text to the plots\n",
    "    for ax, adj_matrix in zip([ax1, ax2], [adj_matrix1, adj_matrix2]):\n",
    "        for i in range(adj_matrix.shape[0]):\n",
    "            for j in range(adj_matrix.shape[1]):\n",
    "                text = ax.text(j, i, round(adj_matrix[i, j],1),\n",
    "                               ha=\"center\", va=\"center\", color=\"w\", fontsize=12)\n",
    "    # Set the title of the figure\n",
    "    fig.suptitle(\"Dynamic Graph Edge Info\", fontsize=18)\n",
    "    # Adjust the spacing between subplots\n",
    "    fig.tight_layout(pad=2)\n",
    "    # Display the plot\n",
    "    plt.savefig(plot_export_path + 'Adjency_Matrixes.pdf')\n",
    "    plt.show()"
   ]
  },
  {
   "cell_type": "markdown",
   "id": "3bbda4c3",
   "metadata": {},
   "source": [
    "### Create and saved graph info"
   ]
  },
  {
   "cell_type": "code",
   "execution_count": 143,
   "id": "9231cd85",
   "metadata": {},
   "outputs": [],
   "source": [
    "trainset,testset,assets_details = load_data(train_path,test_path,assets_details_path)\n",
    "\n",
    "print('intial_preprocessing')\n",
    "trainset = intial_preprocessing(trainset,assets_details,mode='train')\n",
    "testset = intial_preprocessing(testset,assets_details,mode='test')\n",
    "\n",
    "print('train_node_features')\n",
    "train_node_features = node_features_construction(trainset,timesteps)\n",
    "save_object(train_node_features,chunk_size,train_node_features_path)\n",
    "del(train_node_features)\n",
    "\n",
    "print('train_node_labels')\n",
    "train_node_labels = node_labels_construction(trainset,timesteps)\n",
    "save_object(train_node_labels,chunk_size,train_node_labels_path)\n",
    "del(train_node_labels)\n",
    "del(trainset)\n",
    "\n",
    "print('test_node_features')\n",
    "test_node_features = node_features_construction(testset,timesteps)\n",
    "save_object(test_node_features,chunk_size,test_node_features_path)\n",
    "del(test_node_features)"
   ]
  },
  {
   "cell_type": "code",
   "execution_count": 253,
   "id": "fb69b3b1",
   "metadata": {},
   "outputs": [],
   "source": [
    "def adj_to_edge_lists(norm_adjency_matrixes):\n",
    "    undirected_edges_list = []\n",
    "    undirected_weights_list = [] \n",
    "    \n",
    "    for adj_matrix in tqdm(norm_adjency_matrixes):\n",
    "        edges = np.transpose(np.where(adj_matrix != 0))\n",
    "        edge_weights = adj_matrix[edges[:, 0], edges[:, 1]]\n",
    "        edges = [list(edges[:, 0] + 1), list(edges[:, 1] + 1)]\n",
    "        edg_weights = list(edge_weights)\n",
    "        undirected_edges_list.append(edges)\n",
    "        undirected_weights_list.append(edge_weights)\n",
    "    \n",
    "    undirected_edges_list = np.array(undirected_edges_list)\n",
    "    undirected_weights_list = np.array(undirected_weights_list)\n",
    "    return undirected_edges_list,undirected_weights_list"
   ]
  },
  {
   "cell_type": "markdown",
   "id": "8e4e1169",
   "metadata": {},
   "source": [
    "### Edges "
   ]
  },
  {
   "cell_type": "code",
   "execution_count": 257,
   "id": "6dfdf670",
   "metadata": {},
   "outputs": [
    {
     "name": "stderr",
     "output_type": "stream",
     "text": [
      "100%|█████████████████████████████████████████| 100/100 [02:34<00:00,  1.54s/it]\n",
      "  0%|                                                   | 0/100 [00:00<?, ?it/s]/var/folders/7v/c_fky0td2dldmltq3618f3jh0000gn/T/ipykernel_14050/2537035348.py:13: RuntimeWarning: invalid value encountered in divide\n",
      "  adj_norm[non_diag_mask] = 0.1 + 0.8 * (adj_norm[non_diag_mask] - np.min(adj_norm[non_diag_mask])) / (np.max(adj_norm[non_diag_mask]) - np.min(adj_norm[non_diag_mask]))\n",
      "100%|██████████████████████████████████████| 100/100 [00:00<00:00, 19782.59it/s]\n",
      "100%|██████████████████████████████████████| 100/100 [00:00<00:00, 26454.14it/s]\n"
     ]
    }
   ],
   "source": [
    "timestamp1 = \"2019/01/05  12:00\"\n",
    "timestamp2 = \"2021/01/05  12:00\"\n",
    "trainset,testset,assets_details = load_data(train_path,test_path,assets_details_path)\n",
    "pivot_ts = intial_preprocessing_pivot(trainset,assets_details)\n",
    "adjency_matrixes,asset_ids = adjency_matrixes_granger_test(pivot_ts)\n",
    "norm_adjency_matrixes = normalize_adj(adjency_matrixes)\n",
    "#plot_adjency_matrixes(norm_adjency_matrixes[50],norm_adjency_matrixes[99],asset_ids,timestamp1,timestamp2,plot_export_path)\n",
    "undirected_edges, undirected_weights = adj_to_edge_lists(norm_adjency_matrixes)"
   ]
  },
  {
   "cell_type": "code",
   "execution_count": null,
   "id": "1efee44f",
   "metadata": {},
   "outputs": [],
   "source": []
  }
 ],
 "metadata": {
  "kernelspec": {
   "display_name": "full_ml",
   "language": "python",
   "name": "full_ml"
  },
  "language_info": {
   "codemirror_mode": {
    "name": "ipython",
    "version": 3
   },
   "file_extension": ".py",
   "mimetype": "text/x-python",
   "name": "python",
   "nbconvert_exporter": "python",
   "pygments_lexer": "ipython3",
   "version": "3.8.13"
  }
 },
 "nbformat": 4,
 "nbformat_minor": 5
}
