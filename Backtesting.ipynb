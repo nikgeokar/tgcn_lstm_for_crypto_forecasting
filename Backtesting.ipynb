{
 "cells": [
  {
   "cell_type": "code",
   "execution_count": 3,
   "id": "eecd3f44",
   "metadata": {},
   "outputs": [],
   "source": [
    "import pandas as pd\n",
    "import numpy as np\n",
    "import matplotlib.pyplot as plt"
   ]
  },
  {
   "cell_type": "code",
   "execution_count": 4,
   "id": "ca9ab973",
   "metadata": {},
   "outputs": [],
   "source": [
    "export_path = 'io/output/exports/'\n",
    "predictions_path = export_path + 'predictions/'\n",
    "gcn_list = ['A3TGCN2', 'DCRNN', 'TGCN', 'TGCN2', 'GConvGRU', 'GConvLSTM', 'GCLSTM']\n",
    "gcn = gcn_list[3] #TGCN2"
   ]
  },
  {
   "cell_type": "code",
   "execution_count": 5,
   "id": "6a917866",
   "metadata": {},
   "outputs": [],
   "source": [
    "pivot_true = pd.read_csv(predictions_path+gcn+'_predictions.csv',index_col=0)\n",
    "pivot_pred = pd.read_csv(predictions_path+gcn+'_ground_truth.csv',index_col=0)"
   ]
  },
  {
   "cell_type": "code",
   "execution_count": 6,
   "id": "7514a5d5",
   "metadata": {},
   "outputs": [
    {
     "name": "stdout",
     "output_type": "stream",
     "text": [
      "[('sell', 104.982735), ('sell', 100.59656), ('sell', 88.35859), ('sell', 81.9894), ('sell', 87.00978), ('sell', 95.634445), ('sell', 102.48364), ('sell', 98.039185), ('sell', 86.094444), ('sell', 79.895744), ('sell', 84.8487), ('sell', 94.0701), ('sell', 100.76493), ('sell', 96.278564), ('sell', 84.6303), ('sell', 78.41647), ('sell', 83.28466), ('sell', 93.42914), ('sell', 99.91726), ('sell', 95.360535), ('sell', 83.85946), ('sell', 77.88024), ('sell', 82.788864), ('sell', 93.78605), ('sell', 100.21752), ('sell', 95.8939), ('sell', 84.32764), ('sell', 78.53614), ('sell', 83.52306), ('sell', 95.3269), ('sell', 101.435394), ('sell', 96.59344), ('sell', 85.076866), ('sell', 79.48296), ('sell', 84.59096), ('sell', 97.12618), ('sell', 102.76629), ('sell', 97.70539), ('sell', 86.20204), ('sell', 80.73262), ('sell', 86.00678), ('sell', 98.96638), ('sell', 104.58419), ('sell', 99.44801), ('sell', 87.85955), ('sell', 82.74226), ('sell', 88.40706), ('sell', 101.6351), ('sell', 107.09933), ('sell', 101.76043), ('sell', 90.227), ('sell', 85.09737), ('sell', 91.1802), ('sell', 104.429634), ('sell', 109.455185), ('sell', 103.815575), ('sell', 92.29812), ('sell', 87.181496), ('sell', 93.68843), ('sell', 106.87675), ('sell', 111.78609), ('sell', 105.834175), ('sell', 94.1537), ('sell', 89.364944), ('sell', 96.16157), ('sell', 108.96699), ('sell', 113.52745), ('sell', 107.34936), ('sell', 96.002106), ('sell', 91.5168), ('sell', 98.67995), ('sell', 111.4895), ('sell', 115.76885), ('sell', 109.41071), ('sell', 97.68803), ('sell', 93.346535), ('sell', 100.634125), ('sell', 113.34912), ('sell', 117.790726), ('sell', 111.28756), ('sell', 99.4297), ('sell', 94.87532), ('sell', 102.465546), ('sell', 114.96946), ('sell', 119.391945), ('sell', 112.74712), ('sell', 100.71836), ('sell', 96.102135), ('sell', 103.67572), ('sell', 116.30548), ('sell', 120.71027), ('sell', 113.888855), ('sell', 101.64001), ('sell', 96.94003), ('sell', 104.50751), ('sell', 116.995384), ('sell', 121.50183), ('sell', 114.96981), ('sell', 102.760956), ('sell', 97.889626), ('sell', 105.66877), ('sell', 118.40629), ('sell', 123.16829), ('sell', 116.58512), ('sell', 104.200874), ('sell', 99.08898), ('sell', 106.77654), ('sell', 119.42403), ('sell', 124.51678), ('sell', 118.285385), ('sell', 105.73126), ('sell', 100.1257), ('sell', 107.5056), ('sell', 120.1918), ('sell', 125.78818), ('sell', 119.7014), ('sell', 106.97729), ('sell', 101.09864), ('sell', 108.41139), ('sell', 121.01455), ('sell', 126.69871), ('sell', 120.89062), ('sell', 108.115265), ('sell', 101.899475), ('sell', 109.01925), ('sell', 121.48157), ('sell', 127.49777), ('sell', 121.92998), ('sell', 108.92726), ('sell', 102.21294), ('sell', 109.21022), ('sell', 121.50693), ('sell', 127.8842), ('sell', 122.4684), ('sell', 109.44008), ('sell', 102.54231), ('sell', 109.270226), ('sell', 121.06236), ('sell', 127.70552), ('sell', 122.563545), ('sell', 109.48764), ('sell', 102.29075), ('sell', 108.77832), ('sell', 120.02486), ('sell', 126.8309), ('sell', 121.75921), ('sell', 108.55697), ('sell', 101.25234), ('sell', 107.638374), ('sell', 118.358345), ('sell', 125.38204), ('sell', 120.42787), ('sell', 107.357346), ('sell', 99.776886), ('sell', 105.98626), ('sell', 115.9912), ('sell', 123.001724), ('sell', 118.06627), ('sell', 104.92405), ('sell', 97.3008), ('sell', 103.40928), ('sell', 112.61743), ('sell', 119.50556), ('sell', 114.71536), ('sell', 101.7207), ('sell', 94.26641), ('sell', 100.18156), ('sell', 108.94498), ('sell', 116.02637), ('sell', 111.266525), ('sell', 98.42074), ('sell', 90.97212), ('sell', 96.61096), ('sell', 104.94665), ('sell', 111.8441), ('sell', 107.17834), ('sell', 94.47053), ('sell', 87.47804), ('sell', 92.81088), ('sell', 101.109344), ('sell', 108.08483), ('sell', 103.524345), ('sell', 91.029945), ('sell', 84.39741), ('sell', 89.43069), ('sell', 41.161617), ('sell', 10.628486), ('sell', 10.353389), ('sell', 73.004265), ('sell', 114.84083), ('sell', 102.21037), ('sell', 41.65724), ('sell', 9.796448), ('sell', 9.643143), ('sell', 73.8322), ('sell', 107.43173), ('sell', 94.819916), ('sell', 38.37311), ('sell', 9.008238), ('sell', 8.870779), ('sell', 66.5854), ('sell', 99.87034), ('sell', 86.90261), ('sell', 30.755226), ('sell', 8.203845), ('sell', 8.325904), ('sell', 60.634834), ('sell', 93.89271), ('sell', 80.25966), ('sell', 24.592472), ('sell', 7.147301), ('sell', 7.7110777), ('sell', 55.416126), ('sell', 87.717735), ('sell', 72.84215), ('sell', 18.596214), ('sell', 5.832605), ('sell', 6.706305), ('sell', 50.952168), ('sell', 82.48525), ('sell', 67.31819), ('sell', 14.042059), ('sell', 4.351976), ('sell', 5.523231), ('sell', 47.023968), ('sell', 78.289856), ('sell', 61.563404), ('sell', 10.911354), ('sell', 2.891706), ('sell', 4.8374147), ('sell', 42.28608), ('sell', 73.67764), ('sell', 55.742207), ('sell', 9.452665), ('sell', 2.9376085), ('sell', 4.41899), ('sell', 37.50327), ('sell', 69.1967), ('sell', 51.238117), ('sell', 8.3976), ('sell', 2.9800253), ('sell', 3.1231809), ('sell', 31.43671), ('sell', 63.96789), ('sell', 47.761364), ('sell', 7.182739), ('sell', 3.0165658), ('sell', 2.9133515), ('sell', 25.982948), ('sell', 60.059574), ('sell', 45.236046), ('sell', 5.307135), ('sell', 3.0397885), ('sell', 2.9722614), ('sell', 18.501366), ('sell', 58.194065), ('sell', 44.52955), ('sell', 3.413646), ('sell', 3.0537803), ('sell', 3.0290098), ('sell', 11.614029), ('sell', 58.399826), ('sell', 45.8706), ('sell', 2.8455496), ('sell', 3.0551026), ('sell', 3.0667455), ('sell', 8.91444), ('sell', 59.841995), ('sell', 44.394344), ('sell', 2.8773773), ('sell', 3.0529792), ('sell', 3.0735767), ('sell', 6.9766374), ('sell', 53.131), ('sell', 37.994144), ('sell', 2.8983624), ('sell', 3.041435), ('sell', 3.0684366), ('sell', 5.521537), ('sell', 47.794903), ('sell', 33.089424), ('sell', 2.9124634), ('sell', 3.0263796), ('sell', 3.0516324), ('sell', 4.871335), ('sell', 45.033947), ('sell', 30.493229), ('sell', 2.9103258), ('sell', 3.002864), ('sell', 3.0250754), ('sell', 5.0406113), ('sell', 44.198616), ('sell', 29.494297), ('sell', 2.8989508), ('sell', 2.9716635), ('sell', 2.9917648), ('sell', 5.791208), ('sell', 47.242344), ('sell', 31.673416), ('sell', 2.8744426), ('sell', 2.9311674), ('sell', 2.9451108), ('sell', 7.2942395), ('sell', 52.339096), ('sell', 37.006443), ('sell', 3.1443925), ('sell', 2.8868954), ('sell', 2.8875518), ('sell', 9.166593), ('sell', 59.03417), ('sell', 43.533573), ('sell', 4.75448), ('sell', 4.0156164), ('sell', 4.1484547), ('sell', 12.028137), ('sell', 66.51972), ('sell', 50.662914), ('sell', 6.6715226), ('sell', 6.060201), ('sell', 6.208658), ('sell', 18.376415), ('sell', 74.96836), ('sell', 58.721718), ('sell', 8.800434), ('sell', 8.105239), ('sell', 8.139307), ('sell', 26.972908), ('sell', 83.69359), ('sell', 66.69698), ('sell', 11.057922), ('sell', 9.67334), ('sell', 9.635555), ('sell', 35.735527), ('sell', 92.31606), ('sell', 75.720894), ('sell', 15.851466), ('sell', 11.585238), ('sell', 11.244968), ('sell', 44.249886), ('sell', 100.887955), ('sell', 84.31462), ('sell', 21.340736), ('sell', 13.422354), ('sell', 13.07007), ('sell', 51.817795), ('sell', 109.0374), ('sell', 92.49905), ('sell', 27.398682), ('sell', 14.789948), ('sell', 14.417303), ('sell', 58.51049), ('sell', 116.284874), ('sell', 99.495514), ('sell', 33.953773), ('sell', 15.348546), ('sell', 15.477846), ('sell', 65.35476), ('sell', 124.54066), ('sell', 107.11472), ('sell', 38.984627), ('sell', 14.713482), ('sell', 14.665795), ('sell', 70.27715), ('sell', 130.42993), ('sell', 112.78201), ('sell', 43.218887), ('sell', 13.95067), ('sell', 13.453721), ('sell', 74.01369), ('sell', 128.38336), ('sell', 114.617905), ('sell', 3.1386383), ('sell', 3.0632112), ('sell', 3.0870402), ('sell', 3.0541127), ('sell', 6.539359), ('sell', 4.527692), ('sell', 3.2121427), ('sell', 3.1079571), ('sell', 3.1529267), ('sell', 3.1241126), ('sell', 4.226787), ('sell', 2.9227245), ('sell', 3.277052), ('sell', 3.2070956), ('sell', 3.2467039), ('sell', 3.1860237), ('sell', 2.904676), ('sell', 2.9918866), ('sell', 3.330136), ('sell', 3.275728), ('sell', 3.3130589), ('sell', 3.237891), ('sell', 2.9636843), ('sell', 3.049004), ('sell', 3.3643944), ('sell', 3.327271), ('sell', 3.360756), ('sell', 3.281496), ('sell', 3.0149167), ('sell', 3.0924292), ('sell', 3.3850675), ('sell', 3.3642554), ('sell', 3.3779655), ('sell', 3.3023508), ('sell', 3.0442605), ('sell', 3.1174364), ('sell', 3.395325), ('sell', 3.379709), ('sell', 3.360629), ('sell', 3.3161993), ('sell', 3.0625465), ('sell', 3.133935), ('sell', 3.4014754), ('sell', 3.3860927), ('sell', 3.3391497), ('sell', 3.3281739), ('sell', 3.079183), ('sell', 3.1530292), ('sell', 3.4072976), ('sell', 3.379776), ('sell', 3.32197), ('sell', 3.3382893), ('sell', 3.0966396), ('sell', 3.1766324), ('sell', 3.407751), ('sell', 3.3687425), ('sell', 3.3073092), ('sell', 3.3434858), ('sell', 3.1098258), ('sell', 3.1855202), ('sell', 3.3994832), ('sell', 3.350391), ('sell', 3.285009), ('sell', 3.3367078), ('sell', 3.1103537), ('sell', 3.1830978), ('sell', 3.3848255), ('sell', 3.3451614), ('sell', 3.275041), ('sell', 3.3249283), ('sell', 3.1068196), ('sell', 3.1771035), ('sell', 3.3612475), ('sell', 3.3524244), ('sell', 3.3052487), ('sell', 3.3087783), ('sell', 3.0972195), ('sell', 3.1596215), ('sell', 3.337387), ('sell', 3.3473816), ('sell', 3.322101), ('sell', 3.2839904), ('sell', 3.0701318), ('sell', 3.1280606), ('sell', 3.3332624), ('sell', 3.3356688), ('sell', 3.334593), ('sell', 3.275681), ('sell', 3.0324056), ('sell', 3.0881488), ('sell', 3.3191118), ('sell', 3.320587), ('sell', 3.3359528), ('sell', 3.2829666), ('sell', 2.980184), ('sell', 3.03931), ('sell', 3.3044274), ('sell', 3.3052838), ('sell', 3.322362), ('sell', 3.2845588), ('sell', 2.9419513), ('sell', 3.0191205), ('sell', 3.2861943), ('sell', 3.2859218), ('sell', 3.3027806), ('sell', 3.2774181), ('sell', 2.9387555), ('sell', 3.0169938), ('sell', 3.2663898), ('sell', 3.2613518), ('sell', 3.2787666), ('sell', 3.2585053), ('sell', 2.9224775), ('sell', 2.996634), ('sell', 3.2350547), ('sell', 3.2236145), ('sell', 3.2396097), ('sell', 3.2266786), ('sell', 2.8887122), ('sell', 2.9642599), ('sell', 3.1917007), ('sell', 3.1816425), ('sell', 3.1947417), ('sell', 3.1910155), ('sell', 4.0895405), ('sell', 2.9256387), ('sell', 3.1508014), ('sell', 3.1369538), ('sell', 3.1508136), ('sell', 3.1510863), ('sell', 6.0508833), ('sell', 3.4708483), ('sell', 3.1072526), ('sell', 3.0800261), ('sell', 3.0952682), ('sell', 3.0997248), ('sell', 8.227589), ('sell', 5.572482), ('sell', 3.0642743), ('sell', 3.031962), ('sell', 3.0469787), ('sell', 3.0448837), ('sell', 10.356131), ('sell', 7.7164516), ('sell', 3.0278811), ('sell', 2.992793), ('sell', 3.0090659), ('sell', 2.9943254), ('sell', 14.176844), ('sell', 9.804679), ('sell', 3.0017662), ('sell', 3.4079776), ('sell', 3.2424629), ('sell', 3.5357876), ('sell', 20.772293), ('sell', 13.026213), ('sell', 2.9830513), ('sell', 4.2563257), ('sell', 4.19866), ('sell', 5.063267), ('sell', 28.098083), ('sell', 17.624767), ('sell', 2.9801657), ('sell', 4.520556), ('sell', 4.5105276), ('sell', 6.139348), ('sell', 27.791477), ('sell', 20.125847), ('sell', 3.3802724), ('sell', 3.2257323), ('sell', 3.26961), ('sell', 3.4218626), ('sell', 3.2569332), ('sell', 3.2818594), ('sell', 3.4429624), ('sell', 3.3118272), ('sell', 3.3498263), ('sell', 3.4671607), ('sell', 3.3072517), ('sell', 3.3342485), ('sell', 3.4858413), ('sell', 3.3810763), ('sell', 3.4172027), ('sell', 3.496832), ('sell', 3.349646), ('sell', 3.3754697), ('sell', 3.5125017), ('sell', 3.4252534), ('sell', 3.4592192), ('sell', 3.5154252), ('sell', 3.3744311), ('sell', 3.4050376), ('sell', 3.5221002), ('sell', 3.4544601), ('sell', 3.474763), ('sell', 3.5248337), ('sell', 3.3902798), ('sell', 3.4202514), ('sell', 3.518631), ('sell', 3.4685793), ('sell', 3.4627204), ('sell', 3.5195267), ('sell', 3.4023058), ('sell', 3.4283729), ('sell', 3.514668), ('sell', 3.4665508), ('sell', 3.4429202), ('sell', 3.5142336), ('sell', 3.402801), ('sell', 3.4274487), ('sell', 3.5104418), ('sell', 3.4508195), ('sell', 3.4191408), ('sell', 3.5085964), ('sell', 3.399901), ('sell', 3.4245412), ('sell', 3.50603), ('sell', 3.4342222), ('sell', 3.3929052), ('sell', 3.500146), ('sell', 3.3953214), ('sell', 3.420455), ('sell', 3.5017726), ('sell', 3.420762), ('sell', 3.378603), ('sell', 3.4919538), ('sell', 3.3950663), ('sell', 3.4153879), ('sell', 3.4890053), ('sell', 3.4027061), ('sell', 3.3556423), ('sell', 3.4832006), ('sell', 3.3891497), ('sell', 3.407203), ('sell', 3.4707997), ('sell', 3.3702168), ('sell', 3.3235402), ('sell', 3.4698343), ('sell', 3.3755941), ('sell', 3.3917403), ('sell', 3.4336743), ('sell', 3.3376741), ('sell', 3.2895486), ('sell', 3.4533098), ('sell', 3.3490968), ('sell', 3.3714275), ('sell', 3.3941126), ('sell', 3.3550458), ('sell', 3.3099062), ('sell', 3.4346142)]\n"
     ]
    },
    {
     "name": "stderr",
     "output_type": "stream",
     "text": [
      "/var/folders/7v/c_fky0td2dldmltq3618f3jh0000gn/T/ipykernel_40443/3481422436.py:45: RuntimeWarning: invalid value encountered in double_scalars\n",
      "  return_rate = profit / results[0] * 100.0\n"
     ]
    },
    {
     "ename": "ZeroDivisionError",
     "evalue": "division by zero",
     "output_type": "error",
     "traceback": [
      "\u001b[0;31m---------------------------------------------------------------------------\u001b[0m",
      "\u001b[0;31mZeroDivisionError\u001b[0m                         Traceback (most recent call last)",
      "Cell \u001b[0;32mIn [6], line 46\u001b[0m\n\u001b[1;32m     44\u001b[0m profit \u001b[38;5;241m=\u001b[39m results[\u001b[38;5;241m-\u001b[39m\u001b[38;5;241m1\u001b[39m] \u001b[38;5;241m-\u001b[39m results[\u001b[38;5;241m0\u001b[39m]\n\u001b[1;32m     45\u001b[0m return_rate \u001b[38;5;241m=\u001b[39m profit \u001b[38;5;241m/\u001b[39m results[\u001b[38;5;241m0\u001b[39m] \u001b[38;5;241m*\u001b[39m \u001b[38;5;241m100.0\u001b[39m\n\u001b[0;32m---> 46\u001b[0m win_rate \u001b[38;5;241m=\u001b[39m \u001b[38;5;28;43msum\u001b[39;49m\u001b[43m(\u001b[49m\u001b[43m[\u001b[49m\u001b[38;5;241;43m1\u001b[39;49m\u001b[43m \u001b[49m\u001b[38;5;28;43;01mfor\u001b[39;49;00m\u001b[43m \u001b[49m\u001b[43mt\u001b[49m\u001b[43m \u001b[49m\u001b[38;5;129;43;01min\u001b[39;49;00m\u001b[43m \u001b[49m\u001b[43mtrades\u001b[49m\u001b[43m \u001b[49m\u001b[38;5;28;43;01mif\u001b[39;49;00m\u001b[43m \u001b[49m\u001b[43mt\u001b[49m\u001b[43m[\u001b[49m\u001b[38;5;241;43m0\u001b[39;49m\u001b[43m]\u001b[49m\u001b[43m \u001b[49m\u001b[38;5;241;43m==\u001b[39;49m\u001b[43m \u001b[49m\u001b[38;5;124;43m'\u001b[39;49m\u001b[38;5;124;43mbuy\u001b[39;49m\u001b[38;5;124;43m'\u001b[39;49m\u001b[43m \u001b[49m\u001b[38;5;129;43;01mand\u001b[39;49;00m\u001b[43m \u001b[49m\u001b[43mt\u001b[49m\u001b[43m[\u001b[49m\u001b[38;5;241;43m1\u001b[39;49m\u001b[43m]\u001b[49m\u001b[43m \u001b[49m\u001b[38;5;241;43m<\u001b[39;49m\u001b[43m \u001b[49m\u001b[43mt\u001b[49m\u001b[43m[\u001b[49m\u001b[38;5;241;43m1\u001b[39;49m\u001b[43m:\u001b[49m\u001b[43m]\u001b[49m\u001b[43m[\u001b[49m\u001b[38;5;241;43m0\u001b[39;49m\u001b[43m]\u001b[49m\u001b[43m]\u001b[49m\u001b[43m)\u001b[49m\u001b[43m \u001b[49m\u001b[38;5;241;43m/\u001b[39;49m\u001b[43m \u001b[49m\u001b[38;5;28;43mlen\u001b[39;49m\u001b[43m(\u001b[49m\u001b[43m[\u001b[49m\u001b[43mt\u001b[49m\u001b[43m \u001b[49m\u001b[38;5;28;43;01mfor\u001b[39;49;00m\u001b[43m \u001b[49m\u001b[43mt\u001b[49m\u001b[43m \u001b[49m\u001b[38;5;129;43;01min\u001b[39;49;00m\u001b[43m \u001b[49m\u001b[43mtrades\u001b[49m\u001b[43m \u001b[49m\u001b[38;5;28;43;01mif\u001b[39;49;00m\u001b[43m \u001b[49m\u001b[43mt\u001b[49m\u001b[43m[\u001b[49m\u001b[38;5;241;43m0\u001b[39;49m\u001b[43m]\u001b[49m\u001b[43m \u001b[49m\u001b[38;5;241;43m==\u001b[39;49m\u001b[43m \u001b[49m\u001b[38;5;124;43m'\u001b[39;49m\u001b[38;5;124;43mbuy\u001b[39;49m\u001b[38;5;124;43m'\u001b[39;49m\u001b[43m]\u001b[49m\u001b[43m)\u001b[49m \u001b[38;5;241m*\u001b[39m \u001b[38;5;241m100.0\u001b[39m\n\u001b[1;32m     48\u001b[0m \u001b[38;5;66;03m# Plot results\u001b[39;00m\n\u001b[1;32m     49\u001b[0m plt\u001b[38;5;241m.\u001b[39mplot(results)\n",
      "\u001b[0;31mZeroDivisionError\u001b[0m: division by zero"
     ]
    }
   ],
   "source": [
    "# Define trading strategy\n",
    "def trading_strategy(predicted_close, current_close):\n",
    "    if predicted_close > current_close + (current_close * 0.2):\n",
    "        return 'buy'\n",
    "    elif predicted_close < current_close + (current_close * 0.2):\n",
    "        return 'sell'\n",
    "    else:\n",
    "        return 'hold'\n",
    "\n",
    "# Initialize variables\n",
    "balance = 1000.0\n",
    "shares = 0.0\n",
    "trades = []\n",
    "results = []\n",
    "\n",
    "# Loop through each day in the data\n",
    "for i in range(len(pivot_true)-1):\n",
    "    # Get current close price\n",
    "    current_close = pivot_true['DASH'][i]\n",
    "    \n",
    "    # Use neural network to predict next close price\n",
    "    predicted_close = pivot_pred['DASH'][i]\n",
    "    \n",
    "    # Determine trading action based on strategy\n",
    "    action = trading_strategy(predicted_close, current_close)\n",
    "    \n",
    "    # Execute trade\n",
    "    if action == 'buy':\n",
    "        shares = balance / current_close\n",
    "        balance = 0.0\n",
    "        trades.append(('buy', current_close))\n",
    "    elif action == 'sell':\n",
    "        balance = shares * current_close\n",
    "        shares = 0.0\n",
    "        trades.append(('sell', current_close))\n",
    "    else:\n",
    "        trades.append(('hold', current_close))\n",
    "    \n",
    "    # Record results\n",
    "    results.append(balance + shares * current_close)\n",
    "\n",
    "print(trades)\n",
    "# Calculate performance metrics\n",
    "profit = results[-1] - results[0]\n",
    "return_rate = profit / results[0] * 100.0\n",
    "win_rate = sum([1 for t in trades if t[0] == 'buy' and t[1] < t[1:][0]]) / len([t for t in trades if t[0] == 'buy']) * 100.0\n",
    "\n",
    "# Plot results\n",
    "plt.plot(results)\n",
    "plt.xlabel('Day')\n",
    "plt.ylabel('Balance')\n",
    "plt.title('Backtest Results')\n",
    "plt.show()\n",
    "\n",
    "print('Profit: ${:.2f}'.format(profit))\n",
    "print('Return rate: {:.2f}%'.format(return_rate))\n",
    "print('Win rate: {:.2f}%'.format(win_rate))\n",
    "\n"
   ]
  },
  {
   "cell_type": "code",
   "execution_count": null,
   "id": "226081e5",
   "metadata": {},
   "outputs": [],
   "source": []
  }
 ],
 "metadata": {
  "kernelspec": {
   "display_name": "full_ml",
   "language": "python",
   "name": "full_ml"
  },
  "language_info": {
   "codemirror_mode": {
    "name": "ipython",
    "version": 3
   },
   "file_extension": ".py",
   "mimetype": "text/x-python",
   "name": "python",
   "nbconvert_exporter": "python",
   "pygments_lexer": "ipython3",
   "version": "3.8.13"
  }
 },
 "nbformat": 4,
 "nbformat_minor": 5
}
