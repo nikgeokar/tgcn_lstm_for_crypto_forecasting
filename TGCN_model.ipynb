{
 "cells": [
  {
   "cell_type": "code",
   "execution_count": 1,
   "id": "dc5dfe6f",
   "metadata": {},
   "outputs": [],
   "source": [
    "#Data\n",
    "import os\n",
    "import pandas as pd\n",
    "import numpy as np\n",
    "from tqdm import tqdm\n",
    "import pickle\n",
    "import shutil\n",
    "\n",
    "#Graph Counstruction\n",
    "import torch\n",
    "from torch_geometric_temporal.signal import StaticGraphTemporalSignal\n",
    "import torch\n",
    "import torch.nn.functional as F\n",
    "from torch_geometric_temporal.nn.recurrent import A3TGCN2\n",
    "from torch.nn import Linear\n",
    "from torch.nn import ReLU\n",
    "import torch.nn as nn\n",
    "from torch.nn.init import kaiming_uniform_"
   ]
  },
  {
   "cell_type": "code",
   "execution_count": null,
   "id": "ab1102ca",
   "metadata": {},
   "outputs": [],
   "source": [
    "train_path = 'io/input/data_raw/train.csv'\n",
    "test_path = 'io/input/data_raw/example_test.csv'\n",
    "assets_details_path ='io/input/data_raw/asset_details.csv'\n",
    "data_intermediate_path ='io/input/data_intermediate/'\n",
    "train_obj_path = data_intermediate_path + 'train_object.pkl'\n",
    "train_node_features_path = data_intermediate_path + 'node_features/train/'\n",
    "train_node_labels_path = data_intermediate_path + 'node_labels/train/'\n",
    "test_node_labels_path = data_intermediate_path + 'node_labels/test/'\n",
    "test_node_features_path = data_intermediate_path + 'node_features/test/'\n",
    "chunk_size = 100000\n",
    "timesteps = 1200"
   ]
  },
  {
   "cell_type": "code",
   "execution_count": null,
   "id": "405446ea",
   "metadata": {},
   "outputs": [],
   "source": [
    "def load_object(path):\n",
    "    num_chunks = len([f for f in os.listdir(path) if f.startswith('chunk_') and f.endswith('.npy')])\n",
    "    # Load array from chunks\n",
    "    chunks = []\n",
    "    for i in range(num_chunks):\n",
    "        filename = f\"{path}chunk_{i}.npy\"\n",
    "        print()\n",
    "        chunk = np.load(filename,allow_pickle=True)\n",
    "        chunks.append(chunk)\n",
    "    arr_reconstructed = np.concatenate(chunks, axis=0)\n",
    "    return arr_reconstructed"
   ]
  },
  {
   "cell_type": "code",
   "execution_count": null,
   "id": "c91b5de6",
   "metadata": {},
   "outputs": [],
   "source": [
    "train_node_features = load_object(train_node_features_path)\n",
    "train_node_labels = load_object(train_node_labels_path)\n",
    "#test_node_features = load_object(test_node_features_path)\n",
    "edges = np.array([[0,1,2,3,4,5,6,7,8,9,10,11,12,13,11],[1,0,1,8, 12, 11, 10, 9, 8, 7, 6, 5, 4, 3, 2]])\n",
    "edges_weights = np.array([1,0.1,1,0.2,0.5,0.1,0,1,0.2,0.5,0.1,1,0.1,1,0.2]).T\n",
    "print('Train Node Features Train', train_node_features.shape)\n",
    "#print(test_node_features.shape)\n",
    "print('Train Node Labels Train', train_node_labels.shape)\n",
    "print('Edges Shape', edges.shape)\n",
    "print('Edges Weights Shapes',edges_weights.shape)"
   ]
  },
  {
   "cell_type": "code",
   "execution_count": null,
   "id": "a6c793b7",
   "metadata": {},
   "outputs": [],
   "source": [
    "graTrain=StaticGraphTemporalSignal(edge_index=edges,edge_weight=edges_weights,\n",
    "                                   features=train_node_features,targets=train_node_labels)"
   ]
  },
  {
   "cell_type": "code",
   "execution_count": null,
   "id": "d05c4606",
   "metadata": {},
   "outputs": [],
   "source": [
    "train_dataset = graTrain\n",
    "#train_input = np.array(train_dataset.features)"
   ]
  },
  {
   "cell_type": "code",
   "execution_count": null,
   "id": "bf22ae46",
   "metadata": {},
   "outputs": [],
   "source": [
    "train_dataset.features.shape"
   ]
  },
  {
   "cell_type": "code",
   "execution_count": null,
   "id": "e1a02a8d",
   "metadata": {},
   "outputs": [],
   "source": [
    "batch_size=64\n",
    "train_dataset = graTrain\n",
    "train_input = np.array(train_dataset.features) # (5074, 222, 24, 1)\n",
    "train_target = np.array(train_dataset.targets) # (5074, 207, 1)\n",
    "train_x_tensor = torch.from_numpy(train_input).type(torch.FloatTensor)  # (B, N, F, T)\n",
    "train_target_tensor = torch.from_numpy(train_target).type(torch.FloatTensor)  # (B, N, T)\n",
    "train_dataset_new = torch.utils.data.TensorDataset(train_x_tensor, train_target_tensor)\n",
    "train_loader = torch.utils.data.DataLoader(train_dataset_new, batch_size=batch_size,drop_last=True)"
   ]
  },
  {
   "cell_type": "code",
   "execution_count": null,
   "id": "85291dca",
   "metadata": {},
   "outputs": [],
   "source": [
    "for snapshot in train_dataset:\n",
    "    static_edge_index = snapshot.edge_index\n",
    "    print(snapshot)\n",
    "    break;"
   ]
  },
  {
   "cell_type": "code",
   "execution_count": null,
   "id": "95648b8a",
   "metadata": {},
   "outputs": [],
   "source": [
    "class TemporalGNN(torch.nn.Module):\n",
    "    def __init__(self, node_features, periods, batch_size):\n",
    "        super(TemporalGNN, self).__init__()\n",
    "        # Attention Temporal Graph Convolutional Cell\n",
    "        self.tgnn = A3TGCN2(in_channels=node_features,  out_channels=32, periods=periods,batch_size=batch_size) # node_features=2, periods=12\n",
    "        # Equals single-shot prediction\n",
    "        \n",
    "        \n",
    "        self.linear = torch.nn.Linear(32, periods)\n",
    "\n",
    "    def forward(self, x, edge_index):\n",
    "        \"\"\"\n",
    "        x = Node features for T time steps\n",
    "        edge_index = Graph edge indices\n",
    "        \"\"\"\n",
    "        h = self.tgnn(x, edge_index) # x [b, 207, 2, 12]  returns h [b, 207, 12]\n",
    "        h = F.relu(h) \n",
    "        h = self.linear(h)\n",
    "        return h"
   ]
  },
  {
   "cell_type": "code",
   "execution_count": null,
   "id": "8456f472",
   "metadata": {},
   "outputs": [],
   "source": [
    "# Create model and optimizers\n",
    "model = TemporalGNN(node_features=9, periods=1, batch_size=64)\n",
    "optimizer = torch.optim.Adam(model.parameters(), lr=0.001)\n",
    "loss_fn = torch.nn.MSELoss()\n",
    "\n",
    "\n",
    "# print('Net\\'s state_dict:')\n",
    "# total_param = 0\n",
    "# for param_tensor in model.state_dict():\n",
    "#     print(param_tensor, '\\t', model.state_dict()[param_tensor].size())\n",
    "#     total_param += np.prod(model.state_dict()[param_tensor].size())\n",
    "# print('Net\\'s total params:', total_param)\n",
    "# #--------------------------------------------------\n",
    "# print('Optimizer\\'s state_dict:')\n",
    "# for var_name in optimizer.state_dict():\n",
    "#     print(var_name, '\\t', optimizer.state_dict()[var_name])"
   ]
  },
  {
   "cell_type": "code",
   "execution_count": null,
   "id": "4685789e",
   "metadata": {},
   "outputs": [],
   "source": [
    "model.train()\n",
    "\n",
    "for epoch in range(10):\n",
    "    step = 0\n",
    "    loss_list = []\n",
    "    for encoder_inputs, labels in train_loader:\n",
    "        y_hat = model(encoder_inputs, static_edge_index)         # Get model predictions\n",
    "        loss = loss_fn(y_hat, labels) # Mean squared error #loss = torch.mean((y_hat-labels)**2)  sqrt to change it to rmse\n",
    "        loss.backward()\n",
    "        optimizer.step()\n",
    "        optimizer.zero_grad()\n",
    "        step= step+ 1\n",
    "        loss_list.append(loss.item())\n",
    "        if step % 100 == 0 :\n",
    "            print(sum(loss_list)/len(loss_list))\n",
    "    print(\"Epoch {} train RMSE: {:.4f}\".format(epoch, sum(loss_list)/len(loss_list)))"
   ]
  },
  {
   "cell_type": "code",
   "execution_count": null,
   "id": "f9b28e4e",
   "metadata": {},
   "outputs": [],
   "source": []
  }
 ],
 "metadata": {
  "kernelspec": {
   "display_name": "full_ml",
   "language": "python",
   "name": "full_ml"
  },
  "language_info": {
   "codemirror_mode": {
    "name": "ipython",
    "version": 3
   },
   "file_extension": ".py",
   "mimetype": "text/x-python",
   "name": "python",
   "nbconvert_exporter": "python",
   "pygments_lexer": "ipython3",
   "version": "3.8.13"
  }
 },
 "nbformat": 4,
 "nbformat_minor": 5
}
